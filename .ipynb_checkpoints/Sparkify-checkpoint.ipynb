{
 "cells": [
  {
   "cell_type": "markdown",
   "metadata": {},
   "source": [
    "# Project Overview\n",
    "This project is about Sparkify digital music streaming like Spotify and Pandora. They have many users that stream their favorite songs through the offered service every day using the free-tier that play advertisements between the songs or using the premium subscription model where they stream music as free but pay a monthly flat rate. <br>\n",
    "Users can downgrade, upgrade, or cancel their service at any time. So is crucial to make sure the users love the service. <br>\n",
    "There are some events triggered by user use, like play song, logging out, liking a song with thumbs up, hearing an add, downgrade their service, etc. These events generate data. All these data contains the key insights for keeping the users satisfied and using their service.<br>\n",
    "So the goal on these project is to predict which users are at risk to churn, either downgrading from premium to free tier or canceling their service altogether.<br>\n",
    "If the identification of these users were accurate enough before they leave, some marketing offers could be send to prevent the churn. <br>\n",
    "To complete this project it was provided a large dataset that contains all events described above.\n",
    "Here we use a tiny subset (128MB) of the full dataset available (12GB).<br>\n",
    "\n",
    "# Problem Statement\n",
    "\n",
    "Problem simple definition:\n",
    ">Predict which users are at risk to churn, either downgrading from premium to free tier or canceling their service altogether.\n",
    "\n",
    "The steps to solve this problem is:\n",
    " - Load data\n",
    " - Explore and Clean data\n",
    " - Create features\n",
    " - Build Models\n",
    " - Predict churn\n",
    " \n",
    " To guide myself on this journey of exploring the data, I create some questions at the beginning of the notebook regarding the data. These questions should take into account the final target (ML) and the users segmentation. For instance:\n",
    " \n",
    " - How can we defined a user churn?\n",
    " - Is there any demographic patter?\n",
    " - Is there a numerical difference between the number of songs played between churn and non-churn users?\n",
    " - The number of days since the registration can be a significant factor to the churn users?\n",
    " - Can we ensure that if the user is liking a song with thumbs up the chance of churn reduce?\n",
    " \n",
    " It may happen that not all questions get answers, but the point is to get some insights.<br>\n",
    " \n",
    " So, after these analysis and insights, it is time to model! Our problem is a classification problem, so we will use a supervised machine learning algorithm.  \n",
    " \n",
    " For that part will use three models that were quote at the class. They are:\n",
    "  - Linear Regression (lr)\n",
    "  - Random Forests (rf)\n",
    "  - Gradient-Boosted Tree (gbt)\n",
    "  - Support Vector Machines (svm)\n",
    " \n",
    "# Metrics\n",
    " To evaluete and determine the winning model, we will based on validation accuracy since the churned users are a fairly small subset, we will be using F1 score as the metric to optimize. If you want to know more about which metric choose, you can check here. "
   ]
  },
  {
   "cell_type": "markdown",
   "metadata": {},
   "source": [
    "## Import"
   ]
  },
  {
   "cell_type": "code",
   "execution_count": 1,
   "metadata": {},
   "outputs": [],
   "source": [
    "# import libraries\n",
    "from pyspark.sql import SparkSession\n",
    "\n",
    "from pyspark.sql.types import StringType\n",
    "from pyspark.sql.types import IntegerType\n",
    "\n",
    "from pyspark.sql.functions import avg, substring, col, when, sum, asc, desc, countDistinct, count, udf, lit\n",
    "\n",
    "from pyspark.ml.feature import VectorAssembler, StandardScaler\n",
    "from pyspark.ml import Pipeline\n",
    "from pyspark.ml.classification import LogisticRegression, GBTClassifier,LinearSVC, RandomForestClassifier\n",
    "from pyspark.ml.evaluation import MulticlassClassificationEvaluator\n",
    "from pyspark.ml.classification import LogisticRegression, GBTClassifier,LinearSVC, RandomForestClassifier, RandomForestClassificationModel\n",
    "from pyspark.ml.tuning import CrossValidator, ParamGridBuilder\n",
    "\n",
    "import datetime\n",
    "from time import time\n",
    "\n",
    "import numpy as np\n",
    "import pandas as pd\n",
    "%matplotlib inline\n",
    "import matplotlib.pyplot as plt\n",
    "import seaborn as sns"
   ]
  },
  {
   "cell_type": "code",
   "execution_count": 2,
   "metadata": {},
   "outputs": [],
   "source": [
    "# create a Spark session\n",
    "spark = SparkSession \\\n",
    "    .builder \\\n",
    "    .appName(\"Predicting churn\") \\\n",
    "    .getOrCreate()"
   ]
  },
  {
   "cell_type": "markdown",
   "metadata": {},
   "source": [
    "## Load Dataset\n"
   ]
  },
  {
   "cell_type": "code",
   "execution_count": 3,
   "metadata": {},
   "outputs": [
    {
     "data": {
      "text/plain": [
       "[Row(artist='Martha Tilston', auth='Logged In', firstName='Colin', gender='M', itemInSession=50, lastName='Freeman', length=277.89016, level='paid', location='Bakersfield, CA', method='PUT', page='NextSong', registration=1538173362000, sessionId=29, song='Rockpools', status=200, ts=1538352117000, userAgent='Mozilla/5.0 (Windows NT 6.1; WOW64; rv:31.0) Gecko/20100101 Firefox/31.0', userId='30'),\n",
       " Row(artist='Five Iron Frenzy', auth='Logged In', firstName='Micah', gender='M', itemInSession=79, lastName='Long', length=236.09424, level='free', location='Boston-Cambridge-Newton, MA-NH', method='PUT', page='NextSong', registration=1538331630000, sessionId=8, song='Canada', status=200, ts=1538352180000, userAgent='\"Mozilla/5.0 (Windows NT 6.1; WOW64) AppleWebKit/537.36 (KHTML, like Gecko) Chrome/37.0.2062.103 Safari/537.36\"', userId='9'),\n",
       " Row(artist='Adam Lambert', auth='Logged In', firstName='Colin', gender='M', itemInSession=51, lastName='Freeman', length=282.8273, level='paid', location='Bakersfield, CA', method='PUT', page='NextSong', registration=1538173362000, sessionId=29, song='Time For Miracles', status=200, ts=1538352394000, userAgent='Mozilla/5.0 (Windows NT 6.1; WOW64; rv:31.0) Gecko/20100101 Firefox/31.0', userId='30'),\n",
       " Row(artist='Enigma', auth='Logged In', firstName='Micah', gender='M', itemInSession=80, lastName='Long', length=262.71302, level='free', location='Boston-Cambridge-Newton, MA-NH', method='PUT', page='NextSong', registration=1538331630000, sessionId=8, song='Knocking On Forbidden Doors', status=200, ts=1538352416000, userAgent='\"Mozilla/5.0 (Windows NT 6.1; WOW64) AppleWebKit/537.36 (KHTML, like Gecko) Chrome/37.0.2062.103 Safari/537.36\"', userId='9'),\n",
       " Row(artist='Daft Punk', auth='Logged In', firstName='Colin', gender='M', itemInSession=52, lastName='Freeman', length=223.60771, level='paid', location='Bakersfield, CA', method='PUT', page='NextSong', registration=1538173362000, sessionId=29, song='Harder Better Faster Stronger', status=200, ts=1538352676000, userAgent='Mozilla/5.0 (Windows NT 6.1; WOW64; rv:31.0) Gecko/20100101 Firefox/31.0', userId='30')]"
      ]
     },
     "execution_count": 3,
     "metadata": {},
     "output_type": "execute_result"
    }
   ],
   "source": [
    "#load data\n",
    "path = \"mini_sparkify_event_data.json\"\n",
    "df = spark.read.json(path)\n",
    "df.take(5)"
   ]
  },
  {
   "cell_type": "markdown",
   "metadata": {},
   "source": [
    "Let's take a look!"
   ]
  },
  {
   "cell_type": "code",
   "execution_count": 4,
   "metadata": {},
   "outputs": [
    {
     "name": "stdout",
     "output_type": "stream",
     "text": [
      "root\n",
      " |-- artist: string (nullable = true)\n",
      " |-- auth: string (nullable = true)\n",
      " |-- firstName: string (nullable = true)\n",
      " |-- gender: string (nullable = true)\n",
      " |-- itemInSession: long (nullable = true)\n",
      " |-- lastName: string (nullable = true)\n",
      " |-- length: double (nullable = true)\n",
      " |-- level: string (nullable = true)\n",
      " |-- location: string (nullable = true)\n",
      " |-- method: string (nullable = true)\n",
      " |-- page: string (nullable = true)\n",
      " |-- registration: long (nullable = true)\n",
      " |-- sessionId: long (nullable = true)\n",
      " |-- song: string (nullable = true)\n",
      " |-- status: long (nullable = true)\n",
      " |-- ts: long (nullable = true)\n",
      " |-- userAgent: string (nullable = true)\n",
      " |-- userId: string (nullable = true)\n",
      "\n"
     ]
    }
   ],
   "source": [
    "#Cheking the columns and their types\n",
    "df.printSchema()"
   ]
  },
  {
   "cell_type": "markdown",
   "metadata": {},
   "source": [
    "## Clean Dataset "
   ]
  },
  {
   "cell_type": "code",
   "execution_count": 5,
   "metadata": {},
   "outputs": [
    {
     "data": {
      "text/plain": [
       "'The number of rows in the small dataset is 286500'"
      ]
     },
     "execution_count": 5,
     "metadata": {},
     "output_type": "execute_result"
    }
   ],
   "source": [
    "\"The number of rows in the small dataset is {}\".format(df.count())"
   ]
  },
  {
   "cell_type": "code",
   "execution_count": 6,
   "metadata": {},
   "outputs": [
    {
     "name": "stdout",
     "output_type": "stream",
     "text": [
      "+-------+------------------+----------+---------+------+------------------+--------+-----------------+------+-----------------+------+-------+--------------------+-----------------+--------------------+------------------+--------------------+--------------------+-----------------+\n",
      "|summary|            artist|      auth|firstName|gender|     itemInSession|lastName|           length| level|         location|method|   page|        registration|        sessionId|                song|            status|                  ts|           userAgent|           userId|\n",
      "+-------+------------------+----------+---------+------+------------------+--------+-----------------+------+-----------------+------+-------+--------------------+-----------------+--------------------+------------------+--------------------+--------------------+-----------------+\n",
      "|  count|            228108|    286500|   278154|278154|            286500|  278154|           228108|286500|           278154|286500| 286500|              278154|           286500|              228108|            286500|              286500|              278154|           286500|\n",
      "|   mean| 551.0852017937219|      null|     null|  null|114.41421291448516|    null|249.1171819778458|  null|             null|  null|   null|1.535358834084427...|1041.526554973822|            Infinity|210.05459685863875|1.540956889810483...|                null|59682.02278593872|\n",
      "| stddev|1217.7693079161374|      null|     null|  null|129.76726201140994|    null|99.23517921058361|  null|             null|  null|   null| 3.291321616327586E9|726.7762634630741|                 NaN| 31.50507848842214|1.5075439608226302E9|                null|109091.9499991047|\n",
      "|    min|               !!!| Cancelled| Adelaida|     F|                 0|   Adams|          0.78322|  free|       Albany, OR|   GET|  About|       1521380675000|                1|\u001c",
      "ÃÂg ÃÂtti Gr...|               200|       1538352117000|\"Mozilla/5.0 (Mac...|                 |\n",
      "|    max| ÃÂlafur Arnalds|Logged Out|   Zyonna|     M|              1321|  Wright|       3024.66567|  paid|Winston-Salem, NC|   PUT|Upgrade|       1543247354000|             2474|ÃÂau hafa slopp...|               404|       1543799476000|Mozilla/5.0 (comp...|               99|\n",
      "+-------+------------------+----------+---------+------+------------------+--------+-----------------+------+-----------------+------+-------+--------------------+-----------------+--------------------+------------------+--------------------+--------------------+-----------------+\n",
      "\n"
     ]
    }
   ],
   "source": [
    "df.describe().show()"
   ]
  },
  {
   "cell_type": "markdown",
   "metadata": {},
   "source": [
    "As we can see, there are some columns with missing values. <br>\n",
    "\n",
    "| Columns  |  Null Values  |  \n",
    "|----------|:-------------:|\n",
    "| `artist` |  58392 |\n",
    "| `firstName` |    8346   |\n",
    "| `gender` | 8346 |   \n",
    "| `lastName` |  8346 |\n",
    "| `length` |    58392   |\n",
    "| `location` | 8346 |   \n",
    "| `registration` |  8346 |\n",
    "| `song` | 58392   |\n",
    "| `userAgent` | 8346 |   \n"
   ]
  },
  {
   "cell_type": "markdown",
   "metadata": {},
   "source": [
    "There are some columns with many missing values. So, let's take deep into it for a better understanding of the data.<br>\n",
    "The columns `artist`, `firstName` will received a closer look because it is quite possible that if one of these two has some missing value the others, will have too. <br>\n",
    "Besides that, it seems a little odd that `userId` column does not have any missing value according to the columns we have missing values. So we may take a closer look on that."
   ]
  },
  {
   "cell_type": "code",
   "execution_count": 7,
   "metadata": {},
   "outputs": [
    {
     "name": "stdout",
     "output_type": "stream",
     "text": [
      "+------+----------+---------+------+-------------+--------+------+-----+--------+------+-----+------------+---------+----+------+-------------+---------+------+\n",
      "|artist|      auth|firstName|gender|itemInSession|lastName|length|level|location|method| page|registration|sessionId|song|status|           ts|userAgent|userId|\n",
      "+------+----------+---------+------+-------------+--------+------+-----+--------+------+-----+------------+---------+----+------+-------------+---------+------+\n",
      "|  null|Logged Out|     null|  null|          100|    null|  null| free|    null|   GET| Home|        null|        8|null|   200|1538355745000|     null|      |\n",
      "|  null|Logged Out|     null|  null|          101|    null|  null| free|    null|   GET| Help|        null|        8|null|   200|1538355807000|     null|      |\n",
      "|  null|Logged Out|     null|  null|          102|    null|  null| free|    null|   GET| Home|        null|        8|null|   200|1538355841000|     null|      |\n",
      "|  null|Logged Out|     null|  null|          103|    null|  null| free|    null|   PUT|Login|        null|        8|null|   307|1538355842000|     null|      |\n",
      "|  null|Logged Out|     null|  null|            2|    null|  null| free|    null|   GET| Home|        null|      240|null|   200|1538356678000|     null|      |\n",
      "|  null|Logged Out|     null|  null|            3|    null|  null| free|    null|   PUT|Login|        null|      240|null|   307|1538356679000|     null|      |\n",
      "|  null|Logged Out|     null|  null|            0|    null|  null| free|    null|   PUT|Login|        null|      100|null|   307|1538358102000|     null|      |\n",
      "|  null|Logged Out|     null|  null|            0|    null|  null| free|    null|   PUT|Login|        null|      241|null|   307|1538360117000|     null|      |\n",
      "|  null|Logged Out|     null|  null|           14|    null|  null| free|    null|   GET| Home|        null|      187|null|   200|1538361527000|     null|      |\n",
      "|  null|Logged Out|     null|  null|           15|    null|  null| free|    null|   PUT|Login|        null|      187|null|   307|1538361528000|     null|      |\n",
      "|  null|Logged Out|     null|  null|           21|    null|  null| free|    null|   GET| Home|        null|      187|null|   200|1538362007000|     null|      |\n",
      "|  null|Logged Out|     null|  null|           22|    null|  null| free|    null|   GET| Home|        null|      187|null|   200|1538362095000|     null|      |\n",
      "|  null|Logged Out|     null|  null|           23|    null|  null| free|    null|   PUT|Login|        null|      187|null|   307|1538362096000|     null|      |\n",
      "|  null|Logged Out|     null|  null|            0|    null|  null| free|    null|   GET| Home|        null|       27|null|   200|1538363488000|     null|      |\n",
      "|  null|Logged Out|     null|  null|            1|    null|  null| free|    null|   GET|About|        null|       27|null|   200|1538363494000|     null|      |\n",
      "+------+----------+---------+------+-------------+--------+------+-----+--------+------+-----+------------+---------+----+------+-------------+---------+------+\n",
      "only showing top 15 rows\n",
      "\n"
     ]
    }
   ],
   "source": [
    "df.where(col('firstName').isNull()).show(15)"
   ]
  },
  {
   "cell_type": "markdown",
   "metadata": {},
   "source": [
    "It looks like the columns with missing values on `firstName` columns also have missing values on `artist`, `gender`, `lastName`, `userAgent`. Besides that, the `auth` appears as \"Logged out\" and the `userId` column are empty. That must be the reason `userId` has no missing values.<br>\n",
    "We will drop these missing values."
   ]
  },
  {
   "cell_type": "code",
   "execution_count": 8,
   "metadata": {
    "scrolled": true
   },
   "outputs": [
    {
     "name": "stdout",
     "output_type": "stream",
     "text": [
      "+------+----------+---------+------+-------------+--------+------+-----+--------------------+------+---------------+-------------+---------+----+------+-------------+--------------------+------+\n",
      "|artist|      auth|firstName|gender|itemInSession|lastName|length|level|            location|method|           page| registration|sessionId|song|status|           ts|           userAgent|userId|\n",
      "+------+----------+---------+------+-------------+--------+------+-----+--------------------+------+---------------+-------------+---------+----+------+-------------+--------------------+------+\n",
      "|  null| Logged In|    Colin|     M|           54| Freeman|  null| paid|     Bakersfield, CA|   PUT|Add to Playlist|1538173362000|       29|null|   200|1538352905000|Mozilla/5.0 (Wind...|    30|\n",
      "|  null| Logged In|    Micah|     M|           84|    Long|  null| free|Boston-Cambridge-...|   GET|    Roll Advert|1538331630000|        8|null|   200|1538353150000|\"Mozilla/5.0 (Win...|     9|\n",
      "|  null| Logged In|    Micah|     M|           86|    Long|  null| free|Boston-Cambridge-...|   PUT|      Thumbs Up|1538331630000|        8|null|   307|1538353376000|\"Mozilla/5.0 (Win...|     9|\n",
      "|  null| Logged In|    Alexi|     F|            4|  Warren|  null| paid|Spokane-Spokane V...|   GET|      Downgrade|1532482662000|       53|null|   200|1538354749000|Mozilla/5.0 (Wind...|    54|\n",
      "|  null| Logged In|    Alexi|     F|            7|  Warren|  null| paid|Spokane-Spokane V...|   PUT|      Thumbs Up|1532482662000|       53|null|   307|1538355255000|Mozilla/5.0 (Wind...|    54|\n",
      "|  null| Logged In|    Micah|     M|           95|    Long|  null| free|Boston-Cambridge-...|   PUT|    Thumbs Down|1538331630000|        8|null|   307|1538355306000|\"Mozilla/5.0 (Win...|     9|\n",
      "|  null| Logged In|    Micah|     M|           97|    Long|  null| free|Boston-Cambridge-...|   GET|           Home|1538331630000|        8|null|   200|1538355504000|\"Mozilla/5.0 (Win...|     9|\n",
      "|  null| Logged In|    Micah|     M|           99|    Long|  null| free|Boston-Cambridge-...|   PUT|         Logout|1538331630000|        8|null|   307|1538355687000|\"Mozilla/5.0 (Win...|     9|\n",
      "|  null| Logged In|  Ashlynn|     F|            9|Williams|  null| free|     Tallahassee, FL|   PUT|      Thumbs Up|1537365219000|      217|null|   307|1538355711000|\"Mozilla/5.0 (Mac...|    74|\n",
      "|  null|Logged Out|     null|  null|          100|    null|  null| free|                null|   GET|           Home|         null|        8|null|   200|1538355745000|                null|      |\n",
      "|  null|Logged Out|     null|  null|          101|    null|  null| free|                null|   GET|           Help|         null|        8|null|   200|1538355807000|                null|      |\n",
      "|  null|Logged Out|     null|  null|          102|    null|  null| free|                null|   GET|           Home|         null|        8|null|   200|1538355841000|                null|      |\n",
      "|  null|Logged Out|     null|  null|          103|    null|  null| free|                null|   PUT|          Login|         null|        8|null|   307|1538355842000|                null|      |\n",
      "|  null| Logged In|    Micah|     M|          104|    Long|  null| free|Boston-Cambridge-...|   GET|           Home|1538331630000|        8|null|   200|1538355855000|\"Mozilla/5.0 (Win...|     9|\n",
      "|  null| Logged In|    Colin|     M|           71| Freeman|  null| paid|     Bakersfield, CA|   PUT|    Thumbs Down|1538173362000|       29|null|   307|1538356524000|Mozilla/5.0 (Wind...|    30|\n",
      "+------+----------+---------+------+-------------+--------+------+-----+--------------------+------+---------------+-------------+---------+----+------+-------------+--------------------+------+\n",
      "only showing top 15 rows\n",
      "\n"
     ]
    }
   ],
   "source": [
    "df.where(col('artist').isNull()).show(15)"
   ]
  },
  {
   "cell_type": "markdown",
   "metadata": {},
   "source": [
    "The missing values at the `artist` column seems to be correlated to the ones on `song`. But if we look at the `page` column it is clear that they are non-music related actions. So we may wanna keep it. "
   ]
  },
  {
   "cell_type": "code",
   "execution_count": 9,
   "metadata": {},
   "outputs": [],
   "source": [
    "#drop empty string\n",
    "df_clean = df.filter(df['userId'] != \"\")\n",
    "\n",
    "#drop missing values \n",
    "df_clean = df_clean.dropna(how = 'any', subset = ['sessionId', 'firstName'] )"
   ]
  },
  {
   "cell_type": "markdown",
   "metadata": {},
   "source": [
    "# Exploratory Data Analysis\n",
    "When you're working with the full dataset, perform EDA by loading a small subset of the data and doing basic manipulations within Spark. In this workspace, you are already provided a small subset of data you can explore.\n",
    "\n",
    "### Define Churn\n",
    "\n",
    "Once you've done some preliminary analysis, create a column `Churn` to use as the label for your model. I suggest using the `Cancellation Confirmation` events to define your churn, which happen for both paid and free users. As a bonus task, you can also look into the `Downgrade` events.\n",
    "\n",
    "### Explore Data\n",
    "Once you've defined churn, perform some exploratory data analysis to observe the behavior for users who stayed vs users who churned. You can start by exploring aggregates on these two groups of users, observing how much of a specific action they experienced per a certain time unit or number of songs played."
   ]
  },
  {
   "cell_type": "markdown",
   "metadata": {},
   "source": [
    "### Basics"
   ]
  },
  {
   "cell_type": "markdown",
   "metadata": {},
   "source": [
    "**Numerical features**"
   ]
  },
  {
   "cell_type": "code",
   "execution_count": 10,
   "metadata": {},
   "outputs": [
    {
     "name": "stdout",
     "output_type": "stream",
     "text": [
      "+-------+------------------+-----------------+--------------------+--------------------+\n",
      "|summary|     itemInSession|           length|        registration|                  ts|\n",
      "+-------+------------------+-----------------+--------------------+--------------------+\n",
      "|  count|            278154|           228108|              278154|              278154|\n",
      "|   mean|114.89918174824018|249.1171819778458|1.535358834084427...|1.540958915431871...|\n",
      "| stddev|  129.851729399489|99.23517921058361| 3.291321616327586E9|1.5068287123306298E9|\n",
      "|    min|                 0|          0.78322|       1521380675000|       1538352117000|\n",
      "|    max|              1321|       3024.66567|       1543247354000|       1543799476000|\n",
      "+-------+------------------+-----------------+--------------------+--------------------+\n",
      "\n"
     ]
    }
   ],
   "source": [
    "# Quick descriptive statistics\n",
    "df_clean.select(['itemInSession', 'length', 'registration', 'ts']).describe().show()"
   ]
  },
  {
   "cell_type": "markdown",
   "metadata": {},
   "source": [
    "**Categorical features**"
   ]
  },
  {
   "cell_type": "code",
   "execution_count": 11,
   "metadata": {},
   "outputs": [],
   "source": [
    "#select some features to know the possible values\n",
    "cat_feat = ['auth', 'gender', 'level', 'location',\n",
    "            'method', 'page', 'status']"
   ]
  },
  {
   "cell_type": "code",
   "execution_count": 12,
   "metadata": {},
   "outputs": [
    {
     "name": "stdout",
     "output_type": "stream",
     "text": [
      "Possible values of 'auth':\n",
      "['Cancelled', 'Logged In']\n",
      "\n",
      "\n",
      "Possible values of 'gender':\n",
      "['F', 'M']\n",
      "\n",
      "\n",
      "Possible values of 'level':\n",
      "['free', 'paid']\n",
      "\n",
      "\n",
      "Possible values of 'location':\n",
      "['Gainesville, FL', 'Atlantic City-Hammonton, NJ', 'Deltona-Daytona Beach-Ormond Beach, FL', 'San Diego-Carlsbad, CA', 'Cleveland-Elyria, OH', 'Kingsport-Bristol-Bristol, TN-VA', 'New Haven-Milford, CT', 'Birmingham-Hoover, AL', 'Corpus Christi, TX', 'Dubuque, IA', 'Las Vegas-Henderson-Paradise, NV', 'Indianapolis-Carmel-Anderson, IN', 'Seattle-Tacoma-Bellevue, WA', 'Albany, OR', 'Winston-Salem, NC', 'Bakersfield, CA', 'Los Angeles-Long Beach-Anaheim, CA', 'Minneapolis-St. Paul-Bloomington, MN-WI', 'San Francisco-Oakland-Hayward, CA', 'Phoenix-Mesa-Scottsdale, AZ', 'Allentown-Bethlehem-Easton, PA-NJ', 'Miami-Fort Lauderdale-West Palm Beach, FL', 'Selma, AL', 'Dayton, OH', 'San Jose-Sunnyvale-Santa Clara, CA', 'Bridgeport-Stamford-Norwalk, CT', 'Price, UT', 'Providence-Warwick, RI-MA', 'Columbus, GA-AL', 'Greenville-Anderson-Mauldin, SC', 'Logan, UT-ID', 'Myrtle Beach-Conway-North Myrtle Beach, SC-NC', 'Buffalo-Cheektowaga-Niagara Falls, NY', 'Cookeville, TN', 'New Philadelphia-Dover, OH', 'Anchorage, AK', 'New York-Newark-Jersey City, NY-NJ-PA', 'St. Louis, MO-IL', 'Jackson, MS', 'Orlando-Kissimmee-Sanford, FL', 'McAllen-Edinburg-Mission, TX', 'Oxnard-Thousand Oaks-Ventura, CA', 'Memphis, TN-MS-AR', 'San Antonio-New Braunfels, TX', 'Troy, AL', 'Duluth, MN-WI', 'Danville, VA', 'Washington-Arlington-Alexandria, DC-VA-MD-WV', 'Manchester-Nashua, NH', 'Greensboro-High Point, NC', 'Sterling, IL', 'Napa, CA', 'Monroe, LA', 'Louisville/Jefferson County, KY-IN', 'Syracuse, NY', 'Little Rock-North Little Rock-Conway, AR', 'Austin-Round Rock, TX', 'Kansas City, MO-KS', 'Cincinnati, OH-KY-IN', 'Bozeman, MT', 'Truckee-Grass Valley, CA', 'Boston-Cambridge-Newton, MA-NH', 'Philadelphia-Camden-Wilmington, PA-NJ-DE-MD', 'Atlanta-Sandy Springs-Roswell, GA', 'Pittsburgh, PA', 'Chicago-Naperville-Elgin, IL-IN-WI', 'Dallas-Fort Worth-Arlington, TX', 'North Wilkesboro, NC', 'Oklahoma City, OK', 'Albany-Schenectady-Troy, NY', 'Quincy, IL-MO', 'Pontiac, IL', 'Jacksonville, FL', 'Fairbanks, AK', 'Houston-The Woodlands-Sugar Land, TX', 'Montgomery, AL', 'Hartford-West Hartford-East Hartford, CT', 'Port St. Lucie, FL', 'Omaha-Council Bluffs, NE-IA', 'Charlotte-Concord-Gastonia, NC-SC', 'Baltimore-Columbia-Towson, MD', 'Raleigh, NC', 'Sacramento--Roseville--Arden-Arcade, CA', 'Laurel, MS', 'Lexington-Fayette, KY', 'Tampa-St. Petersburg-Clearwater, FL', 'London, KY', 'Tallahassee, FL', 'Roanoke, VA', 'Virginia Beach-Norfolk-Newport News, VA-NC', 'Riverside-San Bernardino-Ontario, CA', 'Concord, NH', 'Stockton-Lodi, CA', 'Boulder, CO', 'Milwaukee-Waukesha-West Allis, WI', 'Detroit-Warren-Dearborn, MI', 'Billings, MT', 'Alexandria, LA', 'Salinas, CA', 'Ionia, MI', 'Morgantown, WV', 'Vineland-Bridgeton, NJ', 'Jacksonville, NC', 'Spokane-Spokane Valley, WA', 'Scranton--Wilkes-Barre--Hazleton, PA', 'Kankakee, IL', 'Portland-Vancouver-Hillsboro, OR-WA', 'Denver-Aurora-Lakewood, CO', 'Flint, MI', 'Santa Maria-Santa Barbara, CA', 'Muncie, IN', 'Colorado Springs, CO', 'Wilson, NC', 'Hagerstown-Martinsburg, MD-WV']\n",
      "\n",
      "\n",
      "Possible values of 'method':\n",
      "['PUT', 'GET']\n",
      "\n",
      "\n",
      "Possible values of 'page':\n",
      "['Cancel', 'Submit Downgrade', 'Thumbs Down', 'Home', 'Downgrade', 'Roll Advert', 'Logout', 'Save Settings', 'Cancellation Confirmation', 'About', 'Settings', 'Add to Playlist', 'Add Friend', 'NextSong', 'Thumbs Up', 'Help', 'Upgrade', 'Error', 'Submit Upgrade']\n",
      "\n",
      "\n",
      "Possible values of 'status':\n",
      "[307, 404, 200]\n",
      "\n",
      "\n"
     ]
    }
   ],
   "source": [
    "for feature in cat_feat:\n",
    "    print(f\"Possible values of '{feature}':\")\n",
    "    print([x[feature] for x in df_clean.select(feature).dropDuplicates().collect()])\n",
    "    print(\"\\n\")"
   ]
  },
  {
   "cell_type": "markdown",
   "metadata": {},
   "source": [
    "### Define Chrun"
   ]
  },
  {
   "cell_type": "markdown",
   "metadata": {},
   "source": [
    "1) How many unique users are on the sample Dataset?\n"
   ]
  },
  {
   "cell_type": "code",
   "execution_count": 12,
   "metadata": {},
   "outputs": [
    {
     "name": "stdout",
     "output_type": "stream",
     "text": [
      "+----------------------+\n",
      "|count(DISTINCT userId)|\n",
      "+----------------------+\n",
      "|                   225|\n",
      "+----------------------+\n",
      "\n"
     ]
    }
   ],
   "source": [
    "users_count = df_clean.select(countDistinct('userId'))\n",
    "users_count.show()"
   ]
  },
  {
   "cell_type": "markdown",
   "metadata": {},
   "source": [
    "2) What are the values page?"
   ]
  },
  {
   "cell_type": "code",
   "execution_count": 13,
   "metadata": {},
   "outputs": [
    {
     "name": "stdout",
     "output_type": "stream",
     "text": [
      "+--------------------+\n",
      "|                page|\n",
      "+--------------------+\n",
      "|              Cancel|\n",
      "|    Submit Downgrade|\n",
      "|         Thumbs Down|\n",
      "|                Home|\n",
      "|           Downgrade|\n",
      "|         Roll Advert|\n",
      "|              Logout|\n",
      "|       Save Settings|\n",
      "|Cancellation Conf...|\n",
      "|               About|\n",
      "|            Settings|\n",
      "|     Add to Playlist|\n",
      "|          Add Friend|\n",
      "|            NextSong|\n",
      "|           Thumbs Up|\n",
      "|                Help|\n",
      "|             Upgrade|\n",
      "|               Error|\n",
      "|      Submit Upgrade|\n",
      "+--------------------+\n",
      "\n"
     ]
    }
   ],
   "source": [
    "df_clean.select('page').dropDuplicates().show()"
   ]
  },
  {
   "cell_type": "markdown",
   "metadata": {},
   "source": [
    "3) How many users click on \"Cancellation Confirmation\" page? Who are they?"
   ]
  },
  {
   "cell_type": "code",
   "execution_count": 14,
   "metadata": {},
   "outputs": [
    {
     "name": "stdout",
     "output_type": "stream",
     "text": [
      "+----------------------+\n",
      "|count(DISTINCT userId)|\n",
      "+----------------------+\n",
      "|                    52|\n",
      "+----------------------+\n",
      "\n"
     ]
    }
   ],
   "source": [
    "df_clean.filter(df_clean['page'] == \"Cancellation Confirmation\").select(countDistinct('userId')).show()"
   ]
  },
  {
   "cell_type": "code",
   "execution_count": 15,
   "metadata": {
    "scrolled": true
   },
   "outputs": [
    {
     "name": "stdout",
     "output_type": "stream",
     "text": [
      "+------+\n",
      "|userId|\n",
      "+------+\n",
      "|   125|\n",
      "|    51|\n",
      "|    54|\n",
      "|100014|\n",
      "|   101|\n",
      "|    29|\n",
      "|100021|\n",
      "|    87|\n",
      "|    73|\n",
      "|     3|\n",
      "+------+\n",
      "only showing top 10 rows\n",
      "\n"
     ]
    }
   ],
   "source": [
    "df_churn_user = df_clean.filter(df_clean['page'] == \"Cancellation Confirmation\").select('userId').dropDuplicates()\n",
    "df_churn_user.show(10)"
   ]
  },
  {
   "cell_type": "markdown",
   "metadata": {},
   "source": [
    "**Create feature Chrun**"
   ]
  },
  {
   "cell_type": "code",
   "execution_count": 16,
   "metadata": {},
   "outputs": [],
   "source": [
    "churn_users = df_clean.filter(df_clean['page'] == \"Cancellation Confirmation\").select('userId').dropDuplicates()\n",
    "churn_users_list = [row['userId'] for row in churn_users.collect()]\n",
    "df_clean = df_clean.withColumn('churn', df_clean['userId'].isin(churn_users_list))"
   ]
  },
  {
   "cell_type": "markdown",
   "metadata": {},
   "source": [
    "### Exploration"
   ]
  },
  {
   "cell_type": "markdown",
   "metadata": {},
   "source": [
    "Turn the Spark SQL dataframe to pandas for better visualization "
   ]
  },
  {
   "cell_type": "code",
   "execution_count": 17,
   "metadata": {},
   "outputs": [],
   "source": [
    "df_pandas = df_clean.select('*').toPandas()"
   ]
  },
  {
   "cell_type": "code",
   "execution_count": 18,
   "metadata": {
    "scrolled": true
   },
   "outputs": [
    {
     "data": {
      "text/html": [
       "<div>\n",
       "<style scoped>\n",
       "    .dataframe tbody tr th:only-of-type {\n",
       "        vertical-align: middle;\n",
       "    }\n",
       "\n",
       "    .dataframe tbody tr th {\n",
       "        vertical-align: top;\n",
       "    }\n",
       "\n",
       "    .dataframe thead th {\n",
       "        text-align: right;\n",
       "    }\n",
       "</style>\n",
       "<table border=\"1\" class=\"dataframe\">\n",
       "  <thead>\n",
       "    <tr style=\"text-align: right;\">\n",
       "      <th></th>\n",
       "      <th>artist</th>\n",
       "      <th>auth</th>\n",
       "      <th>firstName</th>\n",
       "      <th>gender</th>\n",
       "      <th>itemInSession</th>\n",
       "      <th>lastName</th>\n",
       "      <th>length</th>\n",
       "      <th>level</th>\n",
       "      <th>location</th>\n",
       "      <th>method</th>\n",
       "      <th>page</th>\n",
       "      <th>registration</th>\n",
       "      <th>sessionId</th>\n",
       "      <th>song</th>\n",
       "      <th>status</th>\n",
       "      <th>ts</th>\n",
       "      <th>userAgent</th>\n",
       "      <th>userId</th>\n",
       "      <th>churn</th>\n",
       "    </tr>\n",
       "  </thead>\n",
       "  <tbody>\n",
       "    <tr>\n",
       "      <th>0</th>\n",
       "      <td>Martha Tilston</td>\n",
       "      <td>Logged In</td>\n",
       "      <td>Colin</td>\n",
       "      <td>M</td>\n",
       "      <td>50</td>\n",
       "      <td>Freeman</td>\n",
       "      <td>277.89016</td>\n",
       "      <td>paid</td>\n",
       "      <td>Bakersfield, CA</td>\n",
       "      <td>PUT</td>\n",
       "      <td>NextSong</td>\n",
       "      <td>1538173362000</td>\n",
       "      <td>29</td>\n",
       "      <td>Rockpools</td>\n",
       "      <td>200</td>\n",
       "      <td>1538352117000</td>\n",
       "      <td>Mozilla/5.0 (Windows NT 6.1; WOW64; rv:31.0) G...</td>\n",
       "      <td>30</td>\n",
       "      <td>False</td>\n",
       "    </tr>\n",
       "    <tr>\n",
       "      <th>1</th>\n",
       "      <td>Five Iron Frenzy</td>\n",
       "      <td>Logged In</td>\n",
       "      <td>Micah</td>\n",
       "      <td>M</td>\n",
       "      <td>79</td>\n",
       "      <td>Long</td>\n",
       "      <td>236.09424</td>\n",
       "      <td>free</td>\n",
       "      <td>Boston-Cambridge-Newton, MA-NH</td>\n",
       "      <td>PUT</td>\n",
       "      <td>NextSong</td>\n",
       "      <td>1538331630000</td>\n",
       "      <td>8</td>\n",
       "      <td>Canada</td>\n",
       "      <td>200</td>\n",
       "      <td>1538352180000</td>\n",
       "      <td>\"Mozilla/5.0 (Windows NT 6.1; WOW64) AppleWebK...</td>\n",
       "      <td>9</td>\n",
       "      <td>False</td>\n",
       "    </tr>\n",
       "    <tr>\n",
       "      <th>2</th>\n",
       "      <td>Adam Lambert</td>\n",
       "      <td>Logged In</td>\n",
       "      <td>Colin</td>\n",
       "      <td>M</td>\n",
       "      <td>51</td>\n",
       "      <td>Freeman</td>\n",
       "      <td>282.82730</td>\n",
       "      <td>paid</td>\n",
       "      <td>Bakersfield, CA</td>\n",
       "      <td>PUT</td>\n",
       "      <td>NextSong</td>\n",
       "      <td>1538173362000</td>\n",
       "      <td>29</td>\n",
       "      <td>Time For Miracles</td>\n",
       "      <td>200</td>\n",
       "      <td>1538352394000</td>\n",
       "      <td>Mozilla/5.0 (Windows NT 6.1; WOW64; rv:31.0) G...</td>\n",
       "      <td>30</td>\n",
       "      <td>False</td>\n",
       "    </tr>\n",
       "    <tr>\n",
       "      <th>3</th>\n",
       "      <td>Enigma</td>\n",
       "      <td>Logged In</td>\n",
       "      <td>Micah</td>\n",
       "      <td>M</td>\n",
       "      <td>80</td>\n",
       "      <td>Long</td>\n",
       "      <td>262.71302</td>\n",
       "      <td>free</td>\n",
       "      <td>Boston-Cambridge-Newton, MA-NH</td>\n",
       "      <td>PUT</td>\n",
       "      <td>NextSong</td>\n",
       "      <td>1538331630000</td>\n",
       "      <td>8</td>\n",
       "      <td>Knocking On Forbidden Doors</td>\n",
       "      <td>200</td>\n",
       "      <td>1538352416000</td>\n",
       "      <td>\"Mozilla/5.0 (Windows NT 6.1; WOW64) AppleWebK...</td>\n",
       "      <td>9</td>\n",
       "      <td>False</td>\n",
       "    </tr>\n",
       "    <tr>\n",
       "      <th>4</th>\n",
       "      <td>Daft Punk</td>\n",
       "      <td>Logged In</td>\n",
       "      <td>Colin</td>\n",
       "      <td>M</td>\n",
       "      <td>52</td>\n",
       "      <td>Freeman</td>\n",
       "      <td>223.60771</td>\n",
       "      <td>paid</td>\n",
       "      <td>Bakersfield, CA</td>\n",
       "      <td>PUT</td>\n",
       "      <td>NextSong</td>\n",
       "      <td>1538173362000</td>\n",
       "      <td>29</td>\n",
       "      <td>Harder Better Faster Stronger</td>\n",
       "      <td>200</td>\n",
       "      <td>1538352676000</td>\n",
       "      <td>Mozilla/5.0 (Windows NT 6.1; WOW64; rv:31.0) G...</td>\n",
       "      <td>30</td>\n",
       "      <td>False</td>\n",
       "    </tr>\n",
       "  </tbody>\n",
       "</table>\n",
       "</div>"
      ],
      "text/plain": [
       "             artist       auth firstName gender  itemInSession lastName  \\\n",
       "0    Martha Tilston  Logged In     Colin      M             50  Freeman   \n",
       "1  Five Iron Frenzy  Logged In     Micah      M             79     Long   \n",
       "2      Adam Lambert  Logged In     Colin      M             51  Freeman   \n",
       "3            Enigma  Logged In     Micah      M             80     Long   \n",
       "4         Daft Punk  Logged In     Colin      M             52  Freeman   \n",
       "\n",
       "      length level                        location method      page  \\\n",
       "0  277.89016  paid                 Bakersfield, CA    PUT  NextSong   \n",
       "1  236.09424  free  Boston-Cambridge-Newton, MA-NH    PUT  NextSong   \n",
       "2  282.82730  paid                 Bakersfield, CA    PUT  NextSong   \n",
       "3  262.71302  free  Boston-Cambridge-Newton, MA-NH    PUT  NextSong   \n",
       "4  223.60771  paid                 Bakersfield, CA    PUT  NextSong   \n",
       "\n",
       "    registration  sessionId                           song  status  \\\n",
       "0  1538173362000         29                      Rockpools     200   \n",
       "1  1538331630000          8                         Canada     200   \n",
       "2  1538173362000         29              Time For Miracles     200   \n",
       "3  1538331630000          8    Knocking On Forbidden Doors     200   \n",
       "4  1538173362000         29  Harder Better Faster Stronger     200   \n",
       "\n",
       "              ts                                          userAgent userId  \\\n",
       "0  1538352117000  Mozilla/5.0 (Windows NT 6.1; WOW64; rv:31.0) G...     30   \n",
       "1  1538352180000  \"Mozilla/5.0 (Windows NT 6.1; WOW64) AppleWebK...      9   \n",
       "2  1538352394000  Mozilla/5.0 (Windows NT 6.1; WOW64; rv:31.0) G...     30   \n",
       "3  1538352416000  \"Mozilla/5.0 (Windows NT 6.1; WOW64) AppleWebK...      9   \n",
       "4  1538352676000  Mozilla/5.0 (Windows NT 6.1; WOW64; rv:31.0) G...     30   \n",
       "\n",
       "   churn  \n",
       "0  False  \n",
       "1  False  \n",
       "2  False  \n",
       "3  False  \n",
       "4  False  "
      ]
     },
     "execution_count": 18,
     "metadata": {},
     "output_type": "execute_result"
    }
   ],
   "source": [
    "df_pandas.head()"
   ]
  },
  {
   "cell_type": "markdown",
   "metadata": {},
   "source": [
    "To take a deep look, we selected some specific features that, in my opinion, makes more sense to explore. "
   ]
  },
  {
   "cell_type": "markdown",
   "metadata": {},
   "source": [
    "**Churn vs Gender** "
   ]
  },
  {
   "cell_type": "code",
   "execution_count": 23,
   "metadata": {},
   "outputs": [
    {
     "data": {
      "text/html": [
       "<div>\n",
       "<style scoped>\n",
       "    .dataframe tbody tr th:only-of-type {\n",
       "        vertical-align: middle;\n",
       "    }\n",
       "\n",
       "    .dataframe tbody tr th {\n",
       "        vertical-align: top;\n",
       "    }\n",
       "\n",
       "    .dataframe thead th {\n",
       "        text-align: right;\n",
       "    }\n",
       "</style>\n",
       "<table border=\"1\" class=\"dataframe\">\n",
       "  <thead>\n",
       "    <tr style=\"text-align: right;\">\n",
       "      <th></th>\n",
       "      <th>churn</th>\n",
       "      <th>gender</th>\n",
       "      <th>count</th>\n",
       "    </tr>\n",
       "  </thead>\n",
       "  <tbody>\n",
       "    <tr>\n",
       "      <th>0</th>\n",
       "      <td>True</td>\n",
       "      <td>F</td>\n",
       "      <td>20</td>\n",
       "    </tr>\n",
       "    <tr>\n",
       "      <th>1</th>\n",
       "      <td>False</td>\n",
       "      <td>M</td>\n",
       "      <td>89</td>\n",
       "    </tr>\n",
       "    <tr>\n",
       "      <th>2</th>\n",
       "      <td>True</td>\n",
       "      <td>M</td>\n",
       "      <td>32</td>\n",
       "    </tr>\n",
       "    <tr>\n",
       "      <th>3</th>\n",
       "      <td>False</td>\n",
       "      <td>F</td>\n",
       "      <td>84</td>\n",
       "    </tr>\n",
       "  </tbody>\n",
       "</table>\n",
       "</div>"
      ],
      "text/plain": [
       "   churn gender  count\n",
       "0   True      F     20\n",
       "1  False      M     89\n",
       "2   True      M     32\n",
       "3  False      F     84"
      ]
     },
     "execution_count": 23,
     "metadata": {},
     "output_type": "execute_result"
    }
   ],
   "source": [
    "gender_churn = df_clean.dropDuplicates(['userId']).groupBy(['churn', 'gender']).count().toPandas()\n",
    "gender_churn.head()"
   ]
  },
  {
   "cell_type": "code",
   "execution_count": 20,
   "metadata": {},
   "outputs": [
    {
     "data": {
      "image/png": "[encoded data removed]",
      "text/plain": [
       "<matplotlib.figure.Figure at 0x7feb64f763c8>"
      ]
     },
     "metadata": {
      "needs_background": "light"
     },
     "output_type": "display_data"
    }
   ],
   "source": [
    "ax = sns.barplot(x = 'gender', y = 'count', hue = 'churn', data=gender_churn)\n",
    "plt.xlabel('User gender')\n",
    "plt.ylabel('Count')\n",
    "plt.title('Gender')\n",
    "sns.despine(ax=ax);"
   ]
  },
  {
   "cell_type": "markdown",
   "metadata": {},
   "source": [
    "To compare the both genders, we will create a rate."
   ]
  },
  {
   "cell_type": "code",
   "execution_count": 24,
   "metadata": {},
   "outputs": [
    {
     "data": {
      "text/html": [
       "<div>\n",
       "<style scoped>\n",
       "    .dataframe tbody tr th:only-of-type {\n",
       "        vertical-align: middle;\n",
       "    }\n",
       "\n",
       "    .dataframe tbody tr th {\n",
       "        vertical-align: top;\n",
       "    }\n",
       "\n",
       "    .dataframe thead th {\n",
       "        text-align: right;\n",
       "    }\n",
       "</style>\n",
       "<table border=\"1\" class=\"dataframe\">\n",
       "  <thead>\n",
       "    <tr style=\"text-align: right;\">\n",
       "      <th></th>\n",
       "      <th>churn</th>\n",
       "      <th>gender</th>\n",
       "      <th>count</th>\n",
       "      <th>sum</th>\n",
       "      <th>rate</th>\n",
       "    </tr>\n",
       "  </thead>\n",
       "  <tbody>\n",
       "    <tr>\n",
       "      <th>0</th>\n",
       "      <td>True</td>\n",
       "      <td>F</td>\n",
       "      <td>20</td>\n",
       "      <td>52</td>\n",
       "      <td>0.384615</td>\n",
       "    </tr>\n",
       "    <tr>\n",
       "      <th>1</th>\n",
       "      <td>False</td>\n",
       "      <td>M</td>\n",
       "      <td>89</td>\n",
       "      <td>173</td>\n",
       "      <td>0.514451</td>\n",
       "    </tr>\n",
       "    <tr>\n",
       "      <th>2</th>\n",
       "      <td>True</td>\n",
       "      <td>M</td>\n",
       "      <td>32</td>\n",
       "      <td>52</td>\n",
       "      <td>0.615385</td>\n",
       "    </tr>\n",
       "    <tr>\n",
       "      <th>3</th>\n",
       "      <td>False</td>\n",
       "      <td>F</td>\n",
       "      <td>84</td>\n",
       "      <td>173</td>\n",
       "      <td>0.485549</td>\n",
       "    </tr>\n",
       "  </tbody>\n",
       "</table>\n",
       "</div>"
      ],
      "text/plain": [
       "   churn gender  count  sum      rate\n",
       "0   True      F     20   52  0.384615\n",
       "1  False      M     89  173  0.514451\n",
       "2   True      M     32   52  0.615385\n",
       "3  False      F     84  173  0.485549"
      ]
     },
     "execution_count": 24,
     "metadata": {},
     "output_type": "execute_result"
    }
   ],
   "source": [
    "# rate feature for better understanding\n",
    "gender_sum = gender_churn.groupby(['churn']).sum()['count'].to_frame().rename(columns = {'count' : 'sum'})\n",
    "gender_churn = gender_churn.join(gender_sum, on = 'churn')\n",
    "gender_churn['rate'] = gender_churn['count']/gender_churn['sum']\n",
    "gender_churn"
   ]
  },
  {
   "cell_type": "code",
   "execution_count": 26,
   "metadata": {},
   "outputs": [
    {
     "data": {
      "image/png": "[encoded data removed]",
      "text/plain": [
       "<matplotlib.figure.Figure at 0x7feb6b056e80>"
      ]
     },
     "metadata": {
      "needs_background": "light"
     },
     "output_type": "display_data"
    }
   ],
   "source": [
    "ax = sns.barplot(x = 'churn', y = 'rate', hue = 'gender', data=gender_churn)\n",
    "plt.xlabel('User gender')\n",
    "plt.ylabel('Rate churn per gender')\n",
    "plt.title('Rate churn per gender')\n",
    "sns.despine(ax=ax);"
   ]
  },
  {
   "cell_type": "markdown",
   "metadata": {},
   "source": [
    "So we can say that male gender seems to be more likely to churn than womens."
   ]
  },
  {
   "cell_type": "markdown",
   "metadata": {},
   "source": [
    "**Churn vs page**"
   ]
  },
  {
   "cell_type": "code",
   "execution_count": 24,
   "metadata": {},
   "outputs": [
    {
     "data": {
      "text/html": [
       "<div>\n",
       "<style scoped>\n",
       "    .dataframe tbody tr th:only-of-type {\n",
       "        vertical-align: middle;\n",
       "    }\n",
       "\n",
       "    .dataframe tbody tr th {\n",
       "        vertical-align: top;\n",
       "    }\n",
       "\n",
       "    .dataframe thead th {\n",
       "        text-align: right;\n",
       "    }\n",
       "</style>\n",
       "<table border=\"1\" class=\"dataframe\">\n",
       "  <thead>\n",
       "    <tr style=\"text-align: right;\">\n",
       "      <th></th>\n",
       "      <th>churn</th>\n",
       "      <th>page</th>\n",
       "      <th>count</th>\n",
       "    </tr>\n",
       "  </thead>\n",
       "  <tbody>\n",
       "    <tr>\n",
       "      <th>17</th>\n",
       "      <td>True</td>\n",
       "      <td>Submit Downgrade</td>\n",
       "      <td>9</td>\n",
       "    </tr>\n",
       "    <tr>\n",
       "      <th>33</th>\n",
       "      <td>True</td>\n",
       "      <td>Error</td>\n",
       "      <td>32</td>\n",
       "    </tr>\n",
       "    <tr>\n",
       "      <th>10</th>\n",
       "      <td>True</td>\n",
       "      <td>Submit Upgrade</td>\n",
       "      <td>32</td>\n",
       "    </tr>\n",
       "    <tr>\n",
       "      <th>24</th>\n",
       "      <td>True</td>\n",
       "      <td>Cancel</td>\n",
       "      <td>52</td>\n",
       "    </tr>\n",
       "    <tr>\n",
       "      <th>12</th>\n",
       "      <td>True</td>\n",
       "      <td>Cancellation Confirmation</td>\n",
       "      <td>52</td>\n",
       "    </tr>\n",
       "  </tbody>\n",
       "</table>\n",
       "</div>"
      ],
      "text/plain": [
       "    churn                       page  count\n",
       "17   True           Submit Downgrade      9\n",
       "33   True                      Error     32\n",
       "10   True             Submit Upgrade     32\n",
       "24   True                     Cancel     52\n",
       "12   True  Cancellation Confirmation     52"
      ]
     },
     "execution_count": 24,
     "metadata": {},
     "output_type": "execute_result"
    }
   ],
   "source": [
    "page_churn  = df_clean.filter(df_clean['page'] != \"NextSong\").\\\n",
    "              groupBy(['churn', 'page']).\\\n",
    "              count().toPandas().\\\n",
    "              sort_values(by = 'count')\n",
    "page_churn.head()"
   ]
  },
  {
   "cell_type": "code",
   "execution_count": 25,
   "metadata": {},
   "outputs": [
    {
     "data": {
      "image/png": "[encoded data removed]",
      "text/plain": [
       "<matplotlib.figure.Figure at 0x7f7779185b70>"
      ]
     },
     "metadata": {
      "needs_background": "light"
     },
     "output_type": "display_data"
    }
   ],
   "source": [
    "fig = plt.figure(figsize=(10, 5))\n",
    "ax = sns.barplot(x = 'page' , y = 'count', hue = 'churn', data = page_churn, log = True)\n",
    "plt.xlabel('Page')\n",
    "plt.ylabel('Count')\n",
    "plt.title('Pages acess')\n",
    "plt.xticks(rotation=45, ha='right', fontsize=14)\n",
    "sns.despine(ax=ax);"
   ]
  },
  {
   "cell_type": "code",
   "execution_count": 26,
   "metadata": {},
   "outputs": [
    {
     "data": {
      "text/html": [
       "<div>\n",
       "<style scoped>\n",
       "    .dataframe tbody tr th:only-of-type {\n",
       "        vertical-align: middle;\n",
       "    }\n",
       "\n",
       "    .dataframe tbody tr th {\n",
       "        vertical-align: top;\n",
       "    }\n",
       "\n",
       "    .dataframe thead th {\n",
       "        text-align: right;\n",
       "    }\n",
       "</style>\n",
       "<table border=\"1\" class=\"dataframe\">\n",
       "  <thead>\n",
       "    <tr style=\"text-align: right;\">\n",
       "      <th></th>\n",
       "      <th>churn</th>\n",
       "      <th>page</th>\n",
       "      <th>count</th>\n",
       "      <th>sum</th>\n",
       "      <th>rate</th>\n",
       "    </tr>\n",
       "  </thead>\n",
       "  <tbody>\n",
       "    <tr>\n",
       "      <th>17</th>\n",
       "      <td>True</td>\n",
       "      <td>Submit Downgrade</td>\n",
       "      <td>9</td>\n",
       "      <td>63</td>\n",
       "      <td>0.142857</td>\n",
       "    </tr>\n",
       "    <tr>\n",
       "      <th>33</th>\n",
       "      <td>True</td>\n",
       "      <td>Error</td>\n",
       "      <td>32</td>\n",
       "      <td>252</td>\n",
       "      <td>0.126984</td>\n",
       "    </tr>\n",
       "    <tr>\n",
       "      <th>10</th>\n",
       "      <td>True</td>\n",
       "      <td>Submit Upgrade</td>\n",
       "      <td>32</td>\n",
       "      <td>159</td>\n",
       "      <td>0.201258</td>\n",
       "    </tr>\n",
       "    <tr>\n",
       "      <th>24</th>\n",
       "      <td>True</td>\n",
       "      <td>Cancel</td>\n",
       "      <td>52</td>\n",
       "      <td>52</td>\n",
       "      <td>1.000000</td>\n",
       "    </tr>\n",
       "    <tr>\n",
       "      <th>12</th>\n",
       "      <td>True</td>\n",
       "      <td>Cancellation Confirmation</td>\n",
       "      <td>52</td>\n",
       "      <td>52</td>\n",
       "      <td>1.000000</td>\n",
       "    </tr>\n",
       "  </tbody>\n",
       "</table>\n",
       "</div>"
      ],
      "text/plain": [
       "    churn                       page  count  sum      rate\n",
       "17   True           Submit Downgrade      9   63  0.142857\n",
       "33   True                      Error     32  252  0.126984\n",
       "10   True             Submit Upgrade     32  159  0.201258\n",
       "24   True                     Cancel     52   52  1.000000\n",
       "12   True  Cancellation Confirmation     52   52  1.000000"
      ]
     },
     "execution_count": 26,
     "metadata": {},
     "output_type": "execute_result"
    }
   ],
   "source": [
    "# rate feature for better understanding\n",
    "page_sum = page_churn.groupby(['page']).sum()['count'].to_frame().rename(columns = {'count' : 'sum'})\n",
    "page_churn = page_churn.join(page_sum, on = 'page')\n",
    "page_churn['rate'] = page_churn['count']/page_churn['sum']\n",
    "page_churn.head()"
   ]
  },
  {
   "cell_type": "code",
   "execution_count": 27,
   "metadata": {},
   "outputs": [
    {
     "data": {
      "image/png": "[encoded data removed]",
      "text/plain": [
       "<matplotlib.figure.Figure at 0x7f77724f4550>"
      ]
     },
     "metadata": {
      "needs_background": "light"
     },
     "output_type": "display_data"
    }
   ],
   "source": [
    "fig = plt.figure(figsize=(10, 5))\n",
    "ax = sns.barplot(x = 'page' , y = 'rate', hue = 'churn', data = page_churn, log = True)\n",
    "plt.xlabel('Page')\n",
    "plt.ylabel('Rate')\n",
    "plt.title('Pages acess rate')\n",
    "plt.xticks(rotation=45, ha='right', fontsize=14)\n",
    "sns.despine(ax=ax);"
   ]
  },
  {
   "cell_type": "markdown",
   "metadata": {},
   "source": [
    "The \"Cancel\" and \"Cancellation Confirmation\" pages have only churned users, and it makes sense since the way we defined churn feature. But look how \"Thumbs up\", \"Add Playlist\" and \"Add Friend\" seems to have less churn users rate. There are some features like \"Submit Upgrade\", \"Upgrade\", \"Thumbs down\", \"Downgrade\" and \"Logout\" that appears to have a higher churn rate. We will take a better look. "
   ]
  },
  {
   "cell_type": "markdown",
   "metadata": {},
   "source": [
    "**Page vs level for churn users**"
   ]
  },
  {
   "cell_type": "code",
   "execution_count": 27,
   "metadata": {},
   "outputs": [
    {
     "data": {
      "text/html": [
       "<div>\n",
       "<style scoped>\n",
       "    .dataframe tbody tr th:only-of-type {\n",
       "        vertical-align: middle;\n",
       "    }\n",
       "\n",
       "    .dataframe tbody tr th {\n",
       "        vertical-align: top;\n",
       "    }\n",
       "\n",
       "    .dataframe thead th {\n",
       "        text-align: right;\n",
       "    }\n",
       "</style>\n",
       "<table border=\"1\" class=\"dataframe\">\n",
       "  <thead>\n",
       "    <tr style=\"text-align: right;\">\n",
       "      <th></th>\n",
       "      <th>churn</th>\n",
       "      <th>page</th>\n",
       "      <th>level</th>\n",
       "      <th>count</th>\n",
       "    </tr>\n",
       "  </thead>\n",
       "  <tbody>\n",
       "    <tr>\n",
       "      <th>24</th>\n",
       "      <td>True</td>\n",
       "      <td>Submit Downgrade</td>\n",
       "      <td>paid</td>\n",
       "      <td>9</td>\n",
       "    </tr>\n",
       "    <tr>\n",
       "      <th>11</th>\n",
       "      <td>True</td>\n",
       "      <td>Error</td>\n",
       "      <td>free</td>\n",
       "      <td>12</td>\n",
       "    </tr>\n",
       "    <tr>\n",
       "      <th>18</th>\n",
       "      <td>True</td>\n",
       "      <td>Error</td>\n",
       "      <td>paid</td>\n",
       "      <td>20</td>\n",
       "    </tr>\n",
       "    <tr>\n",
       "      <th>6</th>\n",
       "      <td>True</td>\n",
       "      <td>Save Settings</td>\n",
       "      <td>free</td>\n",
       "      <td>20</td>\n",
       "    </tr>\n",
       "    <tr>\n",
       "      <th>10</th>\n",
       "      <td>True</td>\n",
       "      <td>Cancel</td>\n",
       "      <td>free</td>\n",
       "      <td>21</td>\n",
       "    </tr>\n",
       "  </tbody>\n",
       "</table>\n",
       "</div>"
      ],
      "text/plain": [
       "    churn              page level  count\n",
       "24   True  Submit Downgrade  paid      9\n",
       "11   True             Error  free     12\n",
       "18   True             Error  paid     20\n",
       "6    True     Save Settings  free     20\n",
       "10   True            Cancel  free     21"
      ]
     },
     "execution_count": 27,
     "metadata": {},
     "output_type": "execute_result"
    }
   ],
   "source": [
    "level_page_churn = df_clean.filter(df_clean['churn'] == 1).\\\n",
    "              groupBy(['churn', 'page', 'level']).\\\n",
    "              count().toPandas().\\\n",
    "              sort_values(by = 'count')\n",
    "level_page_churn.head()"
   ]
  },
  {
   "cell_type": "code",
   "execution_count": 28,
   "metadata": {},
   "outputs": [
    {
     "data": {
      "image/png": "[encoded data removed]",
      "text/plain": [
       "<matplotlib.figure.Figure at 0x7feb6a4e5ac8>"
      ]
     },
     "metadata": {
      "needs_background": "light"
     },
     "output_type": "display_data"
    }
   ],
   "source": [
    "fig = plt.figure(figsize=(10, 5))\n",
    "ax = sns.barplot(x = 'page' , y = 'count', hue = 'level', data = level_page_churn , log = True)\n",
    "plt.xlabel('Page')\n",
    "plt.ylabel('count')\n",
    "plt.title('Pages count for churn user')\n",
    "plt.xticks(rotation=45, ha='right', fontsize=14)\n",
    "sns.despine(ax=ax);"
   ]
  },
  {
   "cell_type": "markdown",
   "metadata": {},
   "source": [
    "The rate between premium users and free seems close for each page. And the number of premium users cancel or confirm cancellation is bigger. It means that premium users has more chance to churn. <br>\n",
    "Now, look at the \"Thumbs Down\" page. It seems be a important feature for churn prediction. "
   ]
  },
  {
   "cell_type": "markdown",
   "metadata": {},
   "source": [
    "**Page vs level for non-churn users**"
   ]
  },
  {
   "cell_type": "code",
   "execution_count": 30,
   "metadata": {},
   "outputs": [
    {
     "data": {
      "text/html": [
       "<div>\n",
       "<style scoped>\n",
       "    .dataframe tbody tr th:only-of-type {\n",
       "        vertical-align: middle;\n",
       "    }\n",
       "\n",
       "    .dataframe tbody tr th {\n",
       "        vertical-align: top;\n",
       "    }\n",
       "\n",
       "    .dataframe thead th {\n",
       "        text-align: right;\n",
       "    }\n",
       "</style>\n",
       "<table border=\"1\" class=\"dataframe\">\n",
       "  <thead>\n",
       "    <tr style=\"text-align: right;\">\n",
       "      <th></th>\n",
       "      <th>churn</th>\n",
       "      <th>page</th>\n",
       "      <th>level</th>\n",
       "      <th>count</th>\n",
       "    </tr>\n",
       "  </thead>\n",
       "  <tbody>\n",
       "    <tr>\n",
       "      <th>19</th>\n",
       "      <td>False</td>\n",
       "      <td>Error</td>\n",
       "      <td>free</td>\n",
       "      <td>41</td>\n",
       "    </tr>\n",
       "    <tr>\n",
       "      <th>7</th>\n",
       "      <td>False</td>\n",
       "      <td>Submit Downgrade</td>\n",
       "      <td>paid</td>\n",
       "      <td>54</td>\n",
       "    </tr>\n",
       "    <tr>\n",
       "      <th>29</th>\n",
       "      <td>False</td>\n",
       "      <td>Save Settings</td>\n",
       "      <td>free</td>\n",
       "      <td>65</td>\n",
       "    </tr>\n",
       "    <tr>\n",
       "      <th>20</th>\n",
       "      <td>False</td>\n",
       "      <td>About</td>\n",
       "      <td>free</td>\n",
       "      <td>72</td>\n",
       "    </tr>\n",
       "    <tr>\n",
       "      <th>4</th>\n",
       "      <td>False</td>\n",
       "      <td>Submit Upgrade</td>\n",
       "      <td>free</td>\n",
       "      <td>127</td>\n",
       "    </tr>\n",
       "  </tbody>\n",
       "</table>\n",
       "</div>"
      ],
      "text/plain": [
       "    churn              page level  count\n",
       "19  False             Error  free     41\n",
       "7   False  Submit Downgrade  paid     54\n",
       "29  False     Save Settings  free     65\n",
       "20  False             About  free     72\n",
       "4   False    Submit Upgrade  free    127"
      ]
     },
     "execution_count": 30,
     "metadata": {},
     "output_type": "execute_result"
    }
   ],
   "source": [
    "level_page_nchurn = df_clean.filter(df_clean['churn'] == 0).\\\n",
    "              groupBy(['churn', 'page', 'level']).\\\n",
    "              count().toPandas().\\\n",
    "              sort_values(by = 'count')\n",
    "level_page_nchurn.head()"
   ]
  },
  {
   "cell_type": "code",
   "execution_count": 31,
   "metadata": {},
   "outputs": [
    {
     "data": {
      "image/png": "[encoded data removed]",
      "text/plain": [
       "<matplotlib.figure.Figure at 0x7f776da43f60>"
      ]
     },
     "metadata": {
      "needs_background": "light"
     },
     "output_type": "display_data"
    }
   ],
   "source": [
    "fig = plt.figure(figsize=(10, 5))\n",
    "ax = sns.barplot(x = 'page' , y = 'count', hue = 'level', data = level_page_nchurn , log = True)\n",
    "plt.xlabel('Page')\n",
    "plt.ylabel('count')\n",
    "plt.title('Pages count for non-churn user')\n",
    "plt.xticks(rotation=45, ha='right', fontsize=14)\n",
    "sns.despine(ax=ax);"
   ]
  },
  {
   "cell_type": "markdown",
   "metadata": {},
   "source": [
    "**Churn vs level**"
   ]
  },
  {
   "cell_type": "code",
   "execution_count": 31,
   "metadata": {},
   "outputs": [
    {
     "data": {
      "text/html": [
       "<div>\n",
       "<style scoped>\n",
       "    .dataframe tbody tr th:only-of-type {\n",
       "        vertical-align: middle;\n",
       "    }\n",
       "\n",
       "    .dataframe tbody tr th {\n",
       "        vertical-align: top;\n",
       "    }\n",
       "\n",
       "    .dataframe thead th {\n",
       "        text-align: right;\n",
       "    }\n",
       "</style>\n",
       "<table border=\"1\" class=\"dataframe\">\n",
       "  <thead>\n",
       "    <tr style=\"text-align: right;\">\n",
       "      <th></th>\n",
       "      <th>churn</th>\n",
       "      <th>level</th>\n",
       "      <th>count</th>\n",
       "    </tr>\n",
       "  </thead>\n",
       "  <tbody>\n",
       "    <tr>\n",
       "      <th>3</th>\n",
       "      <td>True</td>\n",
       "      <td>free</td>\n",
       "      <td>12388</td>\n",
       "    </tr>\n",
       "    <tr>\n",
       "      <th>2</th>\n",
       "      <td>True</td>\n",
       "      <td>paid</td>\n",
       "      <td>32476</td>\n",
       "    </tr>\n",
       "    <tr>\n",
       "      <th>0</th>\n",
       "      <td>False</td>\n",
       "      <td>free</td>\n",
       "      <td>43333</td>\n",
       "    </tr>\n",
       "    <tr>\n",
       "      <th>1</th>\n",
       "      <td>False</td>\n",
       "      <td>paid</td>\n",
       "      <td>189957</td>\n",
       "    </tr>\n",
       "  </tbody>\n",
       "</table>\n",
       "</div>"
      ],
      "text/plain": [
       "   churn level   count\n",
       "3   True  free   12388\n",
       "2   True  paid   32476\n",
       "0  False  free   43333\n",
       "1  False  paid  189957"
      ]
     },
     "execution_count": 31,
     "metadata": {},
     "output_type": "execute_result"
    }
   ],
   "source": [
    "level_churn  = df_clean.groupBy(['churn', 'level']).\\\n",
    "              count().toPandas().\\\n",
    "              sort_values(by = 'count')\n",
    "level_churn.head()"
   ]
  },
  {
   "cell_type": "code",
   "execution_count": 32,
   "metadata": {},
   "outputs": [
    {
     "data": {
      "image/png": "[encoded data removed]",
      "text/plain": [
       "<matplotlib.figure.Figure at 0x7feb65e35c88>"
      ]
     },
     "metadata": {
      "needs_background": "light"
     },
     "output_type": "display_data"
    }
   ],
   "source": [
    "ax = sns.barplot(x = 'churn', y = 'count', hue = 'level', data=level_churn)\n",
    "plt.xlabel('User level')\n",
    "plt.ylabel('Count')\n",
    "plt.title('Level')\n",
    "sns.despine(ax=ax);"
   ]
  },
  {
   "cell_type": "code",
   "execution_count": 33,
   "metadata": {},
   "outputs": [
    {
     "data": {
      "text/html": [
       "<div>\n",
       "<style scoped>\n",
       "    .dataframe tbody tr th:only-of-type {\n",
       "        vertical-align: middle;\n",
       "    }\n",
       "\n",
       "    .dataframe tbody tr th {\n",
       "        vertical-align: top;\n",
       "    }\n",
       "\n",
       "    .dataframe thead th {\n",
       "        text-align: right;\n",
       "    }\n",
       "</style>\n",
       "<table border=\"1\" class=\"dataframe\">\n",
       "  <thead>\n",
       "    <tr style=\"text-align: right;\">\n",
       "      <th></th>\n",
       "      <th>churn</th>\n",
       "      <th>level</th>\n",
       "      <th>count</th>\n",
       "      <th>sum</th>\n",
       "      <th>rate</th>\n",
       "    </tr>\n",
       "  </thead>\n",
       "  <tbody>\n",
       "    <tr>\n",
       "      <th>3</th>\n",
       "      <td>True</td>\n",
       "      <td>free</td>\n",
       "      <td>12388</td>\n",
       "      <td>44864</td>\n",
       "      <td>0.276123</td>\n",
       "    </tr>\n",
       "    <tr>\n",
       "      <th>2</th>\n",
       "      <td>True</td>\n",
       "      <td>paid</td>\n",
       "      <td>32476</td>\n",
       "      <td>44864</td>\n",
       "      <td>0.723877</td>\n",
       "    </tr>\n",
       "    <tr>\n",
       "      <th>0</th>\n",
       "      <td>False</td>\n",
       "      <td>free</td>\n",
       "      <td>43333</td>\n",
       "      <td>233290</td>\n",
       "      <td>0.185747</td>\n",
       "    </tr>\n",
       "    <tr>\n",
       "      <th>1</th>\n",
       "      <td>False</td>\n",
       "      <td>paid</td>\n",
       "      <td>189957</td>\n",
       "      <td>233290</td>\n",
       "      <td>0.814253</td>\n",
       "    </tr>\n",
       "  </tbody>\n",
       "</table>\n",
       "</div>"
      ],
      "text/plain": [
       "   churn level   count     sum      rate\n",
       "3   True  free   12388   44864  0.276123\n",
       "2   True  paid   32476   44864  0.723877\n",
       "0  False  free   43333  233290  0.185747\n",
       "1  False  paid  189957  233290  0.814253"
      ]
     },
     "execution_count": 33,
     "metadata": {},
     "output_type": "execute_result"
    }
   ],
   "source": [
    "# rate feature for better understanding\n",
    "level_sum = level_churn.groupby(['churn']).sum()['count'].to_frame().rename(columns = {'count' : 'sum'})\n",
    "level_churn = level_churn.join(level_sum, on = 'churn')\n",
    "level_churn['rate'] = level_churn['count']/level_churn['sum']\n",
    "level_churn.head()"
   ]
  },
  {
   "cell_type": "code",
   "execution_count": 35,
   "metadata": {},
   "outputs": [
    {
     "data": {
      "image/png": "[encoded data removed]",
      "text/plain": [
       "<matplotlib.figure.Figure at 0x7feb65e11978>"
      ]
     },
     "metadata": {
      "needs_background": "light"
     },
     "output_type": "display_data"
    }
   ],
   "source": [
    "ax = sns.barplot(x = 'churn', y = 'rate', hue = 'level', data=level_churn)\n",
    "plt.xlabel('User level')\n",
    "plt.ylabel('Rate')\n",
    "plt.title('Level rate')\n",
    "sns.despine(ax=ax);"
   ]
  },
  {
   "cell_type": "markdown",
   "metadata": {},
   "source": [
    "As we thought, there are more premium users churn than free users. It can be because free users may just stop using the service by loging out, but premium users don't. Either way, the level seems to have some impact to classify a user.\n"
   ]
  },
  {
   "cell_type": "markdown",
   "metadata": {},
   "source": [
    "**Churn vs Number of songs played** "
   ]
  },
  {
   "cell_type": "code",
   "execution_count": 36,
   "metadata": {},
   "outputs": [
    {
     "data": {
      "text/plain": [
       "'Average number of songs played for churn users are 699.8846153846154 and for non-churn users are 1108.1734104046243.'"
      ]
     },
     "execution_count": 36,
     "metadata": {},
     "output_type": "execute_result"
    }
   ],
   "source": [
    "songs_count_churn = df_pandas.query('churn == 1').dropna(subset = ['song']).groupby('userId').\\\n",
    "                    count().reset_index()\n",
    "songs_count_churn = songs_count_churn[['userId', 'song']].rename(columns = {'song': 'played_songs'})\n",
    "songs_count_n_churn = df_pandas.query('churn == 0').dropna(subset = ['song']).groupby('userId').\\\n",
    "                    count().reset_index()\n",
    "songs_count_n_churn = songs_count_n_churn[['userId', 'song']].rename(columns = {'song': 'played_songs'})\n",
    "\n",
    "\"Average number of songs played for churn users are {} and for non-churn users are {}.\".\\\n",
    "format(songs_count_churn.played_songs.mean(), songs_count_n_churn.played_songs.mean())"
   ]
  },
  {
   "cell_type": "code",
   "execution_count": 37,
   "metadata": {
    "scrolled": true
   },
   "outputs": [
    {
     "data": {
      "image/png": "[encoded data removed]",
      "text/plain": [
       "<matplotlib.figure.Figure at 0x7f7767df67f0>"
      ]
     },
     "metadata": {
      "needs_background": "light"
     },
     "output_type": "display_data"
    }
   ],
   "source": [
    "fig = plt.figure(figsize=(10, 5))\n",
    "ax = sns.barplot(x = 'userId' , y = 'played_songs', data = songs_count_churn)\n",
    "plt.xlabel('User Id')\n",
    "plt.ylabel('Count')\n",
    "plt.title('Number of played songs for churn users')\n",
    "plt.xticks(rotation=90, ha='right', fontsize=14)\n",
    "sns.despine(ax=ax);"
   ]
  },
  {
   "cell_type": "markdown",
   "metadata": {},
   "source": [
    "It was surprising that both means were not more distant. But as we can see, we have some outliers that can be the cause of it. These outliers can bem important, so we won't remove."
   ]
  },
  {
   "cell_type": "markdown",
   "metadata": {},
   "source": [
    "**Churn vs time since registration**"
   ]
  },
  {
   "cell_type": "code",
   "execution_count": 38,
   "metadata": {},
   "outputs": [
    {
     "data": {
      "text/html": [
       "<div>\n",
       "<style scoped>\n",
       "    .dataframe tbody tr th:only-of-type {\n",
       "        vertical-align: middle;\n",
       "    }\n",
       "\n",
       "    .dataframe tbody tr th {\n",
       "        vertical-align: top;\n",
       "    }\n",
       "\n",
       "    .dataframe thead th {\n",
       "        text-align: right;\n",
       "    }\n",
       "</style>\n",
       "<table border=\"1\" class=\"dataframe\">\n",
       "  <thead>\n",
       "    <tr style=\"text-align: right;\">\n",
       "      <th></th>\n",
       "      <th></th>\n",
       "      <th>time_reg</th>\n",
       "    </tr>\n",
       "    <tr>\n",
       "      <th>userId</th>\n",
       "      <th>churn</th>\n",
       "      <th></th>\n",
       "    </tr>\n",
       "  </thead>\n",
       "  <tbody>\n",
       "    <tr>\n",
       "      <th>10</th>\n",
       "      <th>False</th>\n",
       "      <td>51.762650</td>\n",
       "    </tr>\n",
       "    <tr>\n",
       "      <th>100</th>\n",
       "      <th>False</th>\n",
       "      <td>64.873773</td>\n",
       "    </tr>\n",
       "    <tr>\n",
       "      <th>100001</th>\n",
       "      <th>True</th>\n",
       "      <td>44.800220</td>\n",
       "    </tr>\n",
       "    <tr>\n",
       "      <th>100002</th>\n",
       "      <th>False</th>\n",
       "      <td>160.472072</td>\n",
       "    </tr>\n",
       "    <tr>\n",
       "      <th>100003</th>\n",
       "      <th>True</th>\n",
       "      <td>22.748113</td>\n",
       "    </tr>\n",
       "  </tbody>\n",
       "</table>\n",
       "</div>"
      ],
      "text/plain": [
       "                time_reg\n",
       "userId churn            \n",
       "10     False   51.762650\n",
       "100    False   64.873773\n",
       "100001 True    44.800220\n",
       "100002 False  160.472072\n",
       "100003 True    22.748113"
      ]
     },
     "execution_count": 38,
     "metadata": {},
     "output_type": "execute_result"
    }
   ],
   "source": [
    "# time in days since the registration\n",
    "df_pandas['time_reg'] = (df_pandas['ts'] - df_pandas['registration'])/1000/3600/24\n",
    "time_since_reg = df_pandas.groupby(['userId', 'churn']).agg({'time_reg': 'max'})\n",
    "time_since_reg.head()"
   ]
  },
  {
   "cell_type": "code",
   "execution_count": 39,
   "metadata": {},
   "outputs": [
    {
     "data": {
      "text/html": [
       "<div>\n",
       "<style scoped>\n",
       "    .dataframe tbody tr th:only-of-type {\n",
       "        vertical-align: middle;\n",
       "    }\n",
       "\n",
       "    .dataframe tbody tr th {\n",
       "        vertical-align: top;\n",
       "    }\n",
       "\n",
       "    .dataframe thead th {\n",
       "        text-align: right;\n",
       "    }\n",
       "</style>\n",
       "<table border=\"1\" class=\"dataframe\">\n",
       "  <thead>\n",
       "    <tr style=\"text-align: right;\">\n",
       "      <th></th>\n",
       "      <th>time_reg</th>\n",
       "    </tr>\n",
       "    <tr>\n",
       "      <th>churn</th>\n",
       "      <th></th>\n",
       "    </tr>\n",
       "  </thead>\n",
       "  <tbody>\n",
       "    <tr>\n",
       "      <th>False</th>\n",
       "      <td>86.620619</td>\n",
       "    </tr>\n",
       "    <tr>\n",
       "      <th>True</th>\n",
       "      <td>57.305993</td>\n",
       "    </tr>\n",
       "  </tbody>\n",
       "</table>\n",
       "</div>"
      ],
      "text/plain": [
       "        time_reg\n",
       "churn           \n",
       "False  86.620619\n",
       "True   57.305993"
      ]
     },
     "execution_count": 39,
     "metadata": {},
     "output_type": "execute_result"
    }
   ],
   "source": [
    "time_since_reg.groupby('churn').mean()"
   ]
  },
  {
   "cell_type": "code",
   "execution_count": 40,
   "metadata": {},
   "outputs": [
    {
     "data": {
      "image/png": "[encoded data removed]",
      "text/plain": [
       "<matplotlib.figure.Figure at 0x7f7767c3c668>"
      ]
     },
     "metadata": {
      "needs_background": "light"
     },
     "output_type": "display_data"
    }
   ],
   "source": [
    "fig = plt.figure(figsize=(10, 5))\n",
    "ax = sns.boxplot(x = 'time_reg' , y = 'churn', data = time_since_reg.reset_index(), orient = 'h')\n",
    "plt.xlabel('Days passed')\n",
    "plt.ylabel('Churn')\n",
    "plt.title('Days passed since registration')\n",
    "plt.xticks(rotation=90, ha='right', fontsize=14)\n",
    "sns.despine(ax=ax);"
   ]
  },
  {
   "cell_type": "markdown",
   "metadata": {},
   "source": [
    "If the past days since registration are higher than 140 the chance of the user churn falls dramatically. That is a very important feature."
   ]
  },
  {
   "cell_type": "markdown",
   "metadata": {},
   "source": [
    "# Feature Engineering\n",
    "Once you've familiarized yourself with the data, build out the features you find promising to train your model on. To work with the full dataset, you can follow the following steps.\n",
    "- Write a script to extract the necessary features from the smaller subset of data\n",
    "- Ensure that your script is scalable, using the best practices discussed in Lesson 3\n",
    "- Try your script on the full data set, debugging your script if necessary\n",
    "\n",
    "If you are working in the classroom workspace, you can just extract features based on the small subset of data contained here. Be sure to transfer over this work to the larger dataset when you work on your Spark cluster."
   ]
  },
  {
   "cell_type": "markdown",
   "metadata": {},
   "source": [
    "The features selected are: \n",
    " - gender\n",
    " - pages (Tumbs down/Up, Add playlist and Add friend)\n",
    " - level\n",
    " - number of songs played\n",
    " - time since the registration"
   ]
  },
  {
   "cell_type": "markdown",
   "metadata": {},
   "source": [
    "**Feature Gender**"
   ]
  },
  {
   "cell_type": "markdown",
   "metadata": {},
   "source": [
    "Feature gender can be important because of sociological reasons. "
   ]
  },
  {
   "cell_type": "code",
   "execution_count": 41,
   "metadata": {},
   "outputs": [],
   "source": [
    "f_gender = df_clean.select('userId', 'gender').dropDuplicates().\\\n",
    "     replace(['F', 'M'], ['1', '0'], 'gender').\\\n",
    "     select('userId', col('gender').cast('int'))"
   ]
  },
  {
   "cell_type": "markdown",
   "metadata": {},
   "source": [
    "**Feature Thumbs up/down**"
   ]
  },
  {
   "cell_type": "markdown",
   "metadata": {},
   "source": [
    "In addition to what we saw earlier in the graphics, from the business point of view, having a user iterating positively or negatively is a great way to predict behavior and to serving as an engagement or service quality meter "
   ]
  },
  {
   "cell_type": "code",
   "execution_count": 42,
   "metadata": {},
   "outputs": [],
   "source": [
    "f_thumb_up = df_clean.select('userID','page').filter(df_clean.page == \"Thumbs Up\").\\\n",
    "     groupBy('userID').count().withColumnRenamed('count', 'n_thumb_up') \n",
    "\n",
    "f_thumb_down = df_clean.select('userID','page').filter(df_clean.page == \"Thumbs Down\").\\\n",
    "     groupBy('userID').count().withColumnRenamed('count', 'n_thumb_down') "
   ]
  },
  {
   "cell_type": "markdown",
   "metadata": {},
   "source": [
    "The features below were selected because they show more about the behavior of the user. Thus, can be important to measure the engagement, loyalty and satisfaction."
   ]
  },
  {
   "cell_type": "markdown",
   "metadata": {},
   "source": [
    "**Feature level**"
   ]
  },
  {
   "cell_type": "code",
   "execution_count": 43,
   "metadata": {},
   "outputs": [],
   "source": [
    "f_level = df_clean.select('userId', 'level').dropDuplicates().\\\n",
    "     replace(['paid', 'free'], ['1', '0'], 'level').\\\n",
    "     select('userId', col('level').cast('int'))"
   ]
  },
  {
   "cell_type": "markdown",
   "metadata": {},
   "source": [
    "**Feature Add to playlist**"
   ]
  },
  {
   "cell_type": "code",
   "execution_count": 44,
   "metadata": {},
   "outputs": [],
   "source": [
    "f_playlist = df_clean.select('userID','page').filter(df_clean.page == \"Add to Playlist\").\\\n",
    "         groupBy('userID').count().withColumnRenamed('count', 'add_to_playlist')"
   ]
  },
  {
   "cell_type": "markdown",
   "metadata": {},
   "source": [
    "**Feature Add friend**"
   ]
  },
  {
   "cell_type": "code",
   "execution_count": 45,
   "metadata": {},
   "outputs": [],
   "source": [
    "f_friend = df_clean.select('userID','page').filter(df_clean.page == \"Add Friend\").\\\n",
    "        groupBy('userID').count().withColumnRenamed('count', 'add_friend')"
   ]
  },
  {
   "cell_type": "markdown",
   "metadata": {},
   "source": [
    "**Feature Number of songs played**"
   ]
  },
  {
   "cell_type": "code",
   "execution_count": 46,
   "metadata": {},
   "outputs": [],
   "source": [
    "f_songs = df_clean.filter(df_clean.song != 'null').\\\n",
    "      groupBy('userId').agg(count(df_clean.song).alias('playedSongs')).orderBy('userId').\\\n",
    "      select(['userId','playedSongs'])"
   ]
  },
  {
   "cell_type": "markdown",
   "metadata": {},
   "source": [
    "**Feature time since the registration**"
   ]
  },
  {
   "cell_type": "code",
   "execution_count": 47,
   "metadata": {},
   "outputs": [],
   "source": [
    "f_pdays = df_clean.select('userId','registration','ts').\\\n",
    "    withColumn('pdays_reg',(df_clean.ts - df_clean.registration)).\\\n",
    "    groupBy('userId').agg({'pdays_reg':'max'}).\\\n",
    "    withColumnRenamed('max(pdays_reg)','pdays_reg').\\\n",
    "    select('userId', (col('pdays_reg')/1000/3600/24).alias('pdays_reg'))"
   ]
  },
  {
   "cell_type": "markdown",
   "metadata": {},
   "source": [
    "**Label Churn**"
   ]
  },
  {
   "cell_type": "code",
   "execution_count": 48,
   "metadata": {},
   "outputs": [
    {
     "name": "stdout",
     "output_type": "stream",
     "text": [
      "+------+-----+\n",
      "|userId|label|\n",
      "+------+-----+\n",
      "|    19|    0|\n",
      "|100005|    1|\n",
      "|200007|    0|\n",
      "|300007|    1|\n",
      "|    50|    0|\n",
      "|200002|    0|\n",
      "|    30|    0|\n",
      "|     8|    0|\n",
      "|100011|    1|\n",
      "|100012|    1|\n",
      "|     4|    0|\n",
      "|    65|    0|\n",
      "|   101|    1|\n",
      "|    13|    0|\n",
      "|   153|    0|\n",
      "|    42|    0|\n",
      "|100014|    1|\n",
      "|    94|    0|\n",
      "|    62|    0|\n",
      "|   114|    0|\n",
      "+------+-----+\n",
      "only showing top 20 rows\n",
      "\n"
     ]
    }
   ],
   "source": [
    "f_label = df_clean.select('userId', col('churn').alias('label')).dropDuplicates()\n",
    "f_label = f_label.withColumn('label', f_label.label.cast('int'))\n",
    "f_label.show()"
   ]
  },
  {
   "cell_type": "markdown",
   "metadata": {},
   "source": [
    "Join all the features"
   ]
  },
  {
   "cell_type": "code",
   "execution_count": 49,
   "metadata": {},
   "outputs": [],
   "source": [
    "df_final = df_clean.dropDuplicates(['userId']).sort('userId').select(['userId'])\n",
    "for feature in [f_gender, f_level, f_thumb_up, f_thumb_down, f_playlist, f_friend, f_songs, f_pdays, f_label]:\n",
    "    df_final = df_final.join(feature,'userId')"
   ]
  },
  {
   "cell_type": "code",
   "execution_count": 50,
   "metadata": {},
   "outputs": [
    {
     "name": "stdout",
     "output_type": "stream",
     "text": [
      "+------+------+-----+----------+------------+---------------+----------+-----------+------------------+-----+\n",
      "|userId|gender|level|n_thumb_up|n_thumb_down|add_to_playlist|add_friend|playedSongs|         pdays_reg|label|\n",
      "+------+------+-----+----------+------------+---------------+----------+-----------+------------------+-----+\n",
      "|100010|     1|    0|        17|           5|              7|         4|        275|  55.6436574074074|    0|\n",
      "|200002|     0|    0|        21|           6|              8|         4|        387| 70.07462962962963|    0|\n",
      "|200002|     0|    1|        21|           6|              8|         4|        387| 70.07462962962963|    0|\n",
      "|   124|     1|    1|       171|          41|            118|        74|       4079|131.55591435185184|    0|\n",
      "|    51|     0|    1|       100|          21|             52|        28|       2111|19.455844907407407|    1|\n",
      "|     7|     0|    0|         7|           1|              5|         1|        150| 72.77818287037037|    0|\n",
      "|    15|     0|    1|        81|          14|             59|        31|       1914|56.513576388888886|    0|\n",
      "|    54|     1|    0|       163|          29|             72|        33|       2841|110.75168981481481|    1|\n",
      "|    54|     1|    1|       163|          29|             72|        33|       2841|110.75168981481481|    1|\n",
      "|   155|     1|    0|        58|           3|             24|        11|        820|23.556018518518517|    0|\n",
      "|   155|     1|    1|        58|           3|             24|        11|        820|23.556018518518517|    0|\n",
      "|100014|     0|    1|        17|           3|              7|         6|        257| 85.08340277777778|    1|\n",
      "|   132|     1|    0|        96|          17|             38|        41|       1928|  66.8891087962963|    0|\n",
      "|   132|     1|    1|        96|          17|             38|        41|       1928|  66.8891087962963|    0|\n",
      "|   101|     0|    0|        86|          16|             61|        29|       1797|53.965937499999995|    1|\n",
      "|   101|     0|    1|        86|          16|             61|        29|       1797|53.965937499999995|    1|\n",
      "|    11|     1|    0|        40|           9|             20|         6|        647|124.47825231481481|    0|\n",
      "|    11|     1|    1|        40|           9|             20|         6|        647|124.47825231481481|    0|\n",
      "|   138|     0|    0|        95|          24|             67|        41|       2070| 66.62668981481481|    0|\n",
      "|   138|     0|    1|        95|          24|             67|        41|       2070| 66.62668981481481|    0|\n",
      "+------+------+-----+----------+------------+---------------+----------+-----------+------------------+-----+\n",
      "only showing top 20 rows\n",
      "\n"
     ]
    }
   ],
   "source": [
    "df_final.show()"
   ]
  },
  {
   "cell_type": "markdown",
   "metadata": {},
   "source": [
    "# Modeling\n",
    "Split the full dataset into train, test, and validation sets. Test out several of the machine learning methods you learned. Evaluate the accuracy of the various models, tuning parameters as necessary. Determine your winning model based on test accuracy and report results on the validation set. Since the churned users are a fairly small subset, I suggest using F1 score as the metric to optimize."
   ]
  },
  {
   "cell_type": "markdown",
   "metadata": {},
   "source": [
    "**Split data**"
   ]
  },
  {
   "cell_type": "markdown",
   "metadata": {},
   "source": [
    "To avoid feature with larger scale bias our model we need to standardize them. But before that, we need vectorize them."
   ]
  },
  {
   "cell_type": "code",
   "execution_count": 51,
   "metadata": {},
   "outputs": [],
   "source": [
    "# using vector assembler\n",
    "features = ['gender', 'level', 'n_thumb_up', 'n_thumb_down',\n",
    "            'add_to_playlist', 'add_friend', 'playedSongs',\n",
    "            'pdays_reg']\n",
    "assembler = VectorAssembler(inputCols = features, outputCol = 'NumFeatures')\n",
    "df = assembler.transform(df_final)"
   ]
  },
  {
   "cell_type": "code",
   "execution_count": 52,
   "metadata": {},
   "outputs": [],
   "source": [
    "# scaling features\n",
    "scaler = StandardScaler(inputCol = 'NumFeatures', outputCol = 'features', withStd=True)\n",
    "scalerModel = scaler.fit(df)\n",
    "df = scalerModel.transform(df)"
   ]
  },
  {
   "cell_type": "markdown",
   "metadata": {},
   "source": [
    "In order to have a train, validation and test datasets we will apply randomSplit twice."
   ]
  },
  {
   "cell_type": "code",
   "execution_count": 53,
   "metadata": {},
   "outputs": [],
   "source": [
    "# train test split\n",
    "train, val_test = df.randomSplit([0.7, 0.3], seed=42)\n",
    "validation, test = val_test.randomSplit([0.5, 0.5], seed=42)"
   ]
  },
  {
   "cell_type": "markdown",
   "metadata": {},
   "source": [
    "So, the first before starts with the models application is to create a naive baseline. "
   ]
  },
  {
   "cell_type": "markdown",
   "metadata": {},
   "source": [
    "**Baseline creation**<br>\n",
    "The idea of this baseline is to create a predictor that returns churn = 0, that is, all users labelled as churn."
   ]
  },
  {
   "cell_type": "code",
   "execution_count": 85,
   "metadata": {},
   "outputs": [],
   "source": [
    "pred_baseline = validation.withColumn('prediction', lit(0.0))"
   ]
  },
  {
   "cell_type": "code",
   "execution_count": 86,
   "metadata": {},
   "outputs": [
    {
     "name": "stdout",
     "output_type": "stream",
     "text": [
      "Test set metric:\n",
      "F-1 Score:0.6082758620689656\n"
     ]
    }
   ],
   "source": [
    "evaluator = MulticlassClassificationEvaluator(predictionCol='prediction')\n",
    "print('Test set metric:')\n",
    "print('F-1 Score:{}'.format(evaluator.evaluate(pred_baseline, {evaluator.metricName: \"f1\"})))"
   ]
  },
  {
   "cell_type": "markdown",
   "metadata": {},
   "source": [
    "With the baseline metric set, we can start trying some models. As we see in the extra curricular class, to tunning the model it will be use Parameter Grid and Cross Validation.<br>\n",
    "Besides that, the evaluator selected was MulticlassClassificationEvaluator using the f1-score metric."
   ]
  },
  {
   "cell_type": "markdown",
   "metadata": {},
   "source": [
    "**Logistic Regression**"
   ]
  },
  {
   "cell_type": "code",
   "execution_count": 57,
   "metadata": {},
   "outputs": [],
   "source": [
    "# initialize classifier\n",
    "lr = LogisticRegression(maxIter=10, regParam=0.0, elasticNetParam=0)\n",
    "\n",
    "# set evaluator\n",
    "evaluator = MulticlassClassificationEvaluator(metricName='f1')\n",
    "\n",
    "# build paramGrid\n",
    "paramGrid = ParamGridBuilder() \\\n",
    "    .build()\n",
    "\n",
    "crossval_lr = CrossValidator(estimator=lr,\n",
    "                          evaluator=evaluator, \n",
    "                          estimatorParamMaps=paramGrid,\n",
    "                          numFolds=3)"
   ]
  },
  {
   "cell_type": "code",
   "execution_count": 62,
   "metadata": {},
   "outputs": [
    {
     "data": {
      "text/plain": [
       "'Time training 332.18 seconds'"
      ]
     },
     "execution_count": 62,
     "metadata": {},
     "output_type": "execute_result"
    }
   ],
   "source": [
    "start = time()\n",
    "cvModel_lr = crossval_lr.fit(train)\n",
    "end = time()\n",
    "\"Time training {} seconds\".format(round(end - start, 2))"
   ]
  },
  {
   "cell_type": "code",
   "execution_count": 71,
   "metadata": {},
   "outputs": [
    {
     "data": {
      "text/plain": [
       "[0.7740952816246934]"
      ]
     },
     "execution_count": 71,
     "metadata": {},
     "output_type": "execute_result"
    }
   ],
   "source": [
    "cvModel_lr.avgMetrics"
   ]
  },
  {
   "cell_type": "code",
   "execution_count": 63,
   "metadata": {},
   "outputs": [],
   "source": [
    "results_lr = cvModel_lr.transform(validation)"
   ]
  },
  {
   "cell_type": "code",
   "execution_count": 64,
   "metadata": {},
   "outputs": [
    {
     "name": "stdout",
     "output_type": "stream",
     "text": [
      "Test set metric:\n",
      "F-1 Score:0.6819923371647509\n"
     ]
    }
   ],
   "source": [
    "evaluator = MulticlassClassificationEvaluator(predictionCol=\"prediction\")\n",
    "print('Test set metric:')\n",
    "print('F-1 Score:{}'.format(evaluator.evaluate(results_lr, {evaluator.metricName: \"f1\"})))"
   ]
  },
  {
   "cell_type": "markdown",
   "metadata": {},
   "source": [
    "**Random Forest**"
   ]
  },
  {
   "cell_type": "code",
   "execution_count": 65,
   "metadata": {},
   "outputs": [],
   "source": [
    "# initialize classifier\n",
    "rf = RandomForestClassifier()\n",
    "\n",
    "# set evaluator\n",
    "evaluator = MulticlassClassificationEvaluator(metricName='f1')\n",
    "\n",
    "# build paramGrid\n",
    "paramGrid = ParamGridBuilder() \\\n",
    "    .build()\n",
    "\n",
    "crossval_rf = CrossValidator(estimator=rf,\n",
    "                          estimatorParamMaps=paramGrid,\n",
    "                          evaluator=evaluator,\n",
    "                          numFolds=3)"
   ]
  },
  {
   "cell_type": "code",
   "execution_count": 66,
   "metadata": {},
   "outputs": [
    {
     "data": {
      "text/plain": [
       "'Time training 401.65 seconds'"
      ]
     },
     "execution_count": 66,
     "metadata": {},
     "output_type": "execute_result"
    }
   ],
   "source": [
    "start = time()\n",
    "cvModel_rf = crossval_rf.fit(train)\n",
    "end = time()\n",
    "\"Time training {} seconds\".format(round(end - start, 2))"
   ]
  },
  {
   "cell_type": "code",
   "execution_count": 69,
   "metadata": {},
   "outputs": [
    {
     "data": {
      "text/plain": [
       "[0.8521807720297101]"
      ]
     },
     "execution_count": 69,
     "metadata": {},
     "output_type": "execute_result"
    }
   ],
   "source": [
    "cvModel_rf.avgMetrics"
   ]
  },
  {
   "cell_type": "code",
   "execution_count": 72,
   "metadata": {},
   "outputs": [],
   "source": [
    "results_rf = cvModel_rf.transform(validation)"
   ]
  },
  {
   "cell_type": "code",
   "execution_count": 73,
   "metadata": {},
   "outputs": [
    {
     "name": "stdout",
     "output_type": "stream",
     "text": [
      "Test set metric:\n",
      "F-1 Score:0.964768778401497\n"
     ]
    }
   ],
   "source": [
    "evaluator = MulticlassClassificationEvaluator(predictionCol=\"prediction\")\n",
    "print('Test set metric:')\n",
    "print('F-1 Score:{}'.format(evaluator.evaluate(results_rf, {evaluator.metricName: \"f1\"})))"
   ]
  },
  {
   "cell_type": "markdown",
   "metadata": {},
   "source": [
    "**Gradient-Boosted Trees**"
   ]
  },
  {
   "cell_type": "code",
   "execution_count": 75,
   "metadata": {},
   "outputs": [],
   "source": [
    "# initialize classifier\n",
    "gbt = GBTClassifier(maxIter=10,seed=42)\n",
    "\n",
    "# set evaluator\n",
    "evaluator = MulticlassClassificationEvaluator(metricName='f1')\n",
    "\n",
    "# build paramGrid\n",
    "paramGrid = ParamGridBuilder() \\\n",
    "    .build()\n",
    "\n",
    "crossval_gbt = CrossValidator(estimator=gbt,\n",
    "                          estimatorParamMaps=paramGrid,\n",
    "                          evaluator=evaluator,\n",
    "                          numFolds=3)"
   ]
  },
  {
   "cell_type": "code",
   "execution_count": 76,
   "metadata": {},
   "outputs": [
    {
     "data": {
      "text/plain": [
       "'Time training 851.78 seconds'"
      ]
     },
     "execution_count": 76,
     "metadata": {},
     "output_type": "execute_result"
    }
   ],
   "source": [
    "start = time()\n",
    "cvModel_gbt = crossval_gbt.fit(train)\n",
    "end = time()\n",
    "\"Time training {} seconds\".format(round(end - start, 2))"
   ]
  },
  {
   "cell_type": "code",
   "execution_count": 77,
   "metadata": {},
   "outputs": [
    {
     "data": {
      "text/plain": [
       "[0.8804080431353158]"
      ]
     },
     "execution_count": 77,
     "metadata": {},
     "output_type": "execute_result"
    }
   ],
   "source": [
    "cvModel_gbt.avgMetrics"
   ]
  },
  {
   "cell_type": "code",
   "execution_count": 78,
   "metadata": {},
   "outputs": [],
   "source": [
    "results_gbt = cvModel_gbt.transform(validation)"
   ]
  },
  {
   "cell_type": "code",
   "execution_count": 79,
   "metadata": {},
   "outputs": [
    {
     "name": "stdout",
     "output_type": "stream",
     "text": [
      "Test set metric:\n",
      "F-1 Score:1.0\n"
     ]
    }
   ],
   "source": [
    "evaluator = MulticlassClassificationEvaluator(predictionCol=\"prediction\")\n",
    "print('Test set metric:')\n",
    "print('F-1 Score:{}'.format(evaluator.evaluate(results_gbt, {evaluator.metricName: \"f1\"})))"
   ]
  },
  {
   "cell_type": "markdown",
   "metadata": {},
   "source": [
    "**Support Vector Machine**"
   ]
  },
  {
   "cell_type": "code",
   "execution_count": 80,
   "metadata": {},
   "outputs": [],
   "source": [
    "# initialize classifier\n",
    "svm = LinearSVC(maxIter=10)\n",
    "\n",
    "# set evaluator\n",
    "evaluator = MulticlassClassificationEvaluator(metricName='f1')\n",
    "\n",
    "# build paramGrid\n",
    "paramGrid = ParamGridBuilder() \\\n",
    "    .build()\n",
    "\n",
    "crossval_svm = CrossValidator(estimator=svm,\n",
    "                          estimatorParamMaps=paramGrid,\n",
    "                          evaluator=evaluator,\n",
    "                          numFolds=3)"
   ]
  },
  {
   "cell_type": "code",
   "execution_count": 81,
   "metadata": {},
   "outputs": [
    {
     "data": {
      "text/plain": [
       "'Time training 507.61 seconds'"
      ]
     },
     "execution_count": 81,
     "metadata": {},
     "output_type": "execute_result"
    }
   ],
   "source": [
    "start = time()\n",
    "cvModel_svm = crossval_svm.fit(train)\n",
    "end = time()\n",
    "\"Time training {} seconds\".format(round(end - start, 2))"
   ]
  },
  {
   "cell_type": "code",
   "execution_count": 82,
   "metadata": {},
   "outputs": [
    {
     "data": {
      "text/plain": [
       "[0.7111892195746541]"
      ]
     },
     "execution_count": 82,
     "metadata": {},
     "output_type": "execute_result"
    }
   ],
   "source": [
    "cvModel_svm.avgMetrics"
   ]
  },
  {
   "cell_type": "code",
   "execution_count": 83,
   "metadata": {},
   "outputs": [],
   "source": [
    "results_svm= cvModel_svm.transform(validation)"
   ]
  },
  {
   "cell_type": "code",
   "execution_count": 84,
   "metadata": {},
   "outputs": [
    {
     "name": "stdout",
     "output_type": "stream",
     "text": [
      "Test set metric:\n",
      "F-1 Score:0.6082758620689656\n"
     ]
    }
   ],
   "source": [
    "evaluator = MulticlassClassificationEvaluator(predictionCol=\"prediction\")\n",
    "print('Test set metric:')\n",
    "print('F-1 Score:{}'.format(evaluator.evaluate(results_svm, {evaluator.metricName: \"f1\"})))"
   ]
  },
  {
   "cell_type": "markdown",
   "metadata": {},
   "source": [
    "Although the Gradient-Boosted Trees performed better, the excessive high score on the validation test \n",
    "may have been caused by the unbalance of the classes. So we choose the random forest because of the time of performance. "
   ]
  },
  {
   "cell_type": "markdown",
   "metadata": {},
   "source": [
    "**Select best model**<br>\n"
   ]
  },
  {
   "cell_type": "code",
   "execution_count": 90,
   "metadata": {},
   "outputs": [],
   "source": [
    "# Optimize a Random Forest model through Grid Search\n",
    "model = RandomForestClassifier()\n",
    "param_grid = ParamGridBuilder().\\\n",
    "     addGrid(model.numTrees, [5, 15]).\\\n",
    "     addGrid(model.maxDepth, [5, 10]).\\\n",
    "     build()\n",
    "\n",
    "crossval_rf = CrossValidator(estimator = model,\n",
    "                         estimatorParamMaps = param_grid,\n",
    "                         evaluator = MulticlassClassificationEvaluator(metricName='f1'),\n",
    "                         numFolds = 3)\n",
    "\n",
    "cvModel_rf = crossval_rf.fit(train)\n",
    "results = cvModel_rf.transform(test)"
   ]
  },
  {
   "cell_type": "code",
   "execution_count": 92,
   "metadata": {},
   "outputs": [
    {
     "data": {
      "text/plain": [
       "[0.8712121385019901,\n",
       " 0.8968261881267063,\n",
       " 0.8479459519703421,\n",
       " 0.9178505163621689]"
      ]
     },
     "execution_count": 92,
     "metadata": {},
     "output_type": "execute_result"
    }
   ],
   "source": [
    "cvModel_rf.avgMetrics"
   ]
  },
  {
   "cell_type": "code",
   "execution_count": 91,
   "metadata": {},
   "outputs": [
    {
     "name": "stdout",
     "output_type": "stream",
     "text": [
      "Test set metrics:\n",
      "F-1 Score:0.7946666666666666\n"
     ]
    }
   ],
   "source": [
    "print('Test set metrics:')\n",
    "print('F-1 Score:{}'.format(evaluator.evaluate(results, {evaluator.metricName: \"f1\"})))"
   ]
  },
  {
   "cell_type": "markdown",
   "metadata": {},
   "source": [
    "# Conclusion"
   ]
  },
  {
   "cell_type": "markdown",
   "metadata": {},
   "source": [
    "## Reflection\n",
    "\n",
    "This project provided an opportunity to familiarize myself with loading, analyzing, cleaning and predicting using big data. It was very challenging, but joyfull. <br>\n",
    "\n",
    "One of the most challenging points was getting used to the syntax. As similar as it was to python, it took me a while to get used to and understand what I was doing. <br>\n",
    " \n",
    "It was amazing learn how to manipulate large and realistic datasets using Spark to engineer relevant features for predicting churn and how to use Spark MLlib to build machine learning models, far beyond what could be done with non-distributed technologies.\n",
    "\n",
    "\n",
    "## Improvement \n",
    "\n",
    "To improve the process many thing can be made, like balance the class predict. This process could be done using oversampling, but it has do be done carefully. A common mistake when oversampling is applying the oversample before the cross validation. The problem of this approach is that at some point the training and validation set contain the same sample, resulting in overfitting and misleading results. <br>\n",
    "\n",
    "The right way is shown in the figure above. We need to do the oversampling after the cross validation, in order to avoid using the same data for training and validation. This way we avoid overfitting and get reliable results.\n",
    "It is possible to know more in: https://www.marcoaltini.com/blog/dealing-with-imbalanced-data-undersampling-oversampling-and-proper-cross-validation.<br>\n",
    "\n",
    "Another point is to treat the skewness of the features. Many models make assumptions about the features being normally distributed, so transforming our features into more normal features can boost our predictive ability.The model based on tree decisions are not too senstive for skewness but it can be improved. "
   ]
  },
  {
   "cell_type": "code",
   "execution_count": null,
   "metadata": {},
   "outputs": [],
   "source": []
  }
 ],
 "metadata": {
  "kernelspec": {
   "display_name": "Python 3",
   "language": "python",
   "name": "python3"
  },
  "language_info": {
   "codemirror_mode": {
    "name": "ipython",
    "version": 3
   },
   "file_extension": ".py",
   "mimetype": "text/x-python",
   "name": "python",
   "nbconvert_exporter": "python",
   "pygments_lexer": "ipython3",
   "version": "3.7.6"
  }
 },
 "nbformat": 4,
 "nbformat_minor": 2
}
